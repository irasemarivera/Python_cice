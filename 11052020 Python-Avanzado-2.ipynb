{
 "cells": [
  {
   "cell_type": "markdown",
   "metadata": {},
   "source": [
    "# MySQL y Python"
   ]
  },
  {
   "cell_type": "code",
   "execution_count": 6,
   "metadata": {},
   "outputs": [],
   "source": [
    "import mysql.connector\n",
    "\n",
    "con = mysql.connector.connect(user = \"root\", password = \"root\", host = \"127.0.0.1\", database = \"bdPython\")\n",
    "cursor = con.cursor()\n",
    "\n",
    "cursor.execute(\"CREATE TABLE example (id INT, data VARCHAR (100));\")\n"
   ]
  },
  {
   "cell_type": "code",
   "execution_count": 7,
   "metadata": {},
   "outputs": [],
   "source": [
    "# Vamos ahora a agregar datos a la BD\n",
    "cursor.execute(\"INSERT INTO example (id, data) VALUES ('9', 'dato')\")\n",
    "\n",
    "con.commit()\n",
    "\n",
    "con.close()"
   ]
  },
  {
   "cell_type": "code",
   "execution_count": 12,
   "metadata": {},
   "outputs": [
    {
     "name": "stdout",
     "output_type": "stream",
     "text": [
      "(9, 'dato')\n"
     ]
    }
   ],
   "source": [
    "# Selección de datos. Sentencia SQL.\n",
    "import mysql.connector\n",
    "\n",
    "con = mysql.connector.connect(user = \"root\", password = \"root\", host = \"127.0.0.1\", database = \"bdPython\")\n",
    "cursor = con.cursor()\n",
    "\n",
    "cursor.execute(\"SELECT * FROM `example` WHERE `id` = 9\")\n",
    "\n",
    "rows = cursor.fetchall()\n",
    "\n",
    "for row in rows:\n",
    "    print(row)\n",
    "\n",
    "cursor.close()\n",
    "con.close()"
   ]
  },
  {
   "cell_type": "code",
   "execution_count": 13,
   "metadata": {},
   "outputs": [],
   "source": [
    "# Cómo borramos datos utilizando Python\n",
    "import mysql.connector\n",
    "\n",
    "con = mysql.connector.connect(user = \"root\", password = \"root\", host = \"127.0.0.1\", database = \"bdPython\")\n",
    "cursor = con.cursor()\n",
    "\n",
    "cursor.execute(\"DELETE FROM `example` WHERE `id` = 9;\")\n",
    "\n",
    "con.commit()\n",
    "cursor.close()\n",
    "con.close()\n"
   ]
  },
  {
   "cell_type": "markdown",
   "metadata": {},
   "source": [
    "# Interfaz Gráfica con Python"
   ]
  },
  {
   "cell_type": "code",
   "execution_count": 1,
   "metadata": {},
   "outputs": [],
   "source": [
    "import wx"
   ]
  },
  {
   "cell_type": "code",
   "execution_count": 2,
   "metadata": {},
   "outputs": [
    {
     "name": "stdout",
     "output_type": "stream",
     "text": [
      "['C:\\\\Users\\\\gabriel.marin\\\\Python-Ejercicios\\\\scr\\\\LinkedInPython', 'C:\\\\Users\\\\gabriel.marin\\\\AppData\\\\Local\\\\Continuum\\\\anaconda3\\\\python37.zip', 'C:\\\\Users\\\\gabriel.marin\\\\AppData\\\\Local\\\\Continuum\\\\anaconda3\\\\DLLs', 'C:\\\\Users\\\\gabriel.marin\\\\AppData\\\\Local\\\\Continuum\\\\anaconda3\\\\lib', 'C:\\\\Users\\\\gabriel.marin\\\\AppData\\\\Local\\\\Continuum\\\\anaconda3', '', 'C:\\\\Users\\\\gabriel.marin\\\\AppData\\\\Roaming\\\\Python\\\\Python37\\\\site-packages', 'C:\\\\Users\\\\gabriel.marin\\\\AppData\\\\Local\\\\Continuum\\\\anaconda3\\\\lib\\\\site-packages', 'C:\\\\Users\\\\gabriel.marin\\\\AppData\\\\Local\\\\Continuum\\\\anaconda3\\\\lib\\\\site-packages\\\\win32', 'C:\\\\Users\\\\gabriel.marin\\\\AppData\\\\Local\\\\Continuum\\\\anaconda3\\\\lib\\\\site-packages\\\\win32\\\\lib', 'C:\\\\Users\\\\gabriel.marin\\\\AppData\\\\Local\\\\Continuum\\\\anaconda3\\\\lib\\\\site-packages\\\\Pythonwin', 'C:\\\\Users\\\\gabriel.marin\\\\AppData\\\\Local\\\\Continuum\\\\anaconda3\\\\lib\\\\site-packages\\\\IPython\\\\extensions', 'C:\\\\Users\\\\gabriel.marin\\\\.ipython']\n"
     ]
    }
   ],
   "source": [
    "import sys\n",
    "print(sys.path)"
   ]
  },
  {
   "cell_type": "code",
   "execution_count": 3,
   "metadata": {},
   "outputs": [],
   "source": [
    "# Estamos completamente seguros de que está funcionando.\n",
    "app = wx.App()"
   ]
  },
  {
   "cell_type": "code",
   "execution_count": 4,
   "metadata": {},
   "outputs": [
    {
     "data": {
      "text/plain": [
       "True"
      ]
     },
     "execution_count": 4,
     "metadata": {},
     "output_type": "execute_result"
    }
   ],
   "source": [
    "# wx.Frame es un contenedor padre, None, ya que es el elemento padre.\n",
    "# -1 indica que se le asigne un id al elemento.\n",
    "# Primera Ventana es el título para colocar en la ventana.\n",
    "frame = wx.Frame(None, -1, \"Primera Ventana\")\n",
    "frame.Show()\n",
    "\n",
    "# Ayuda a tomar los elementos para interactuar sobre los elementos.\n",
    "app.MainLoop()"
   ]
  },
  {
   "cell_type": "code",
   "execution_count": 1,
   "metadata": {},
   "outputs": [
    {
     "data": {
      "text/plain": [
       "0"
      ]
     },
     "execution_count": 1,
     "metadata": {},
     "output_type": "execute_result"
    }
   ],
   "source": [
    "# Incluir parámetros en la construcción de la ventana.\n",
    "\n",
    "import wx\n",
    "\n",
    "app = wx.App()\n",
    "frame = wx.Frame(None, -1, \"Primera Ventana\", style = wx.MINIMIZE_BOX | wx.MAXIMIZE_BOX | wx.SYSTEM_MENU | wx.CAPTION | wx.CLOSE_BOX)\n",
    "frame.Show()\n",
    "\n",
    "app.MainLoop()\n"
   ]
  },
  {
   "cell_type": "code",
   "execution_count": 3,
   "metadata": {},
   "outputs": [
    {
     "data": {
      "text/plain": [
       "0"
      ]
     },
     "execution_count": 3,
     "metadata": {},
     "output_type": "execute_result"
    }
   ],
   "source": [
    "# Modificar el tamaño de una ventana. Solución más sencilla para la definición del \n",
    "import wx\n",
    "\n",
    "app = wx.App()\n",
    "frame = wx.Frame(None, -1, \"Primera Ventana\", size = (800,400), style = wx.MINIMIZE_BOX | wx.MAXIMIZE_BOX | wx.SYSTEM_MENU | wx.CAPTION | wx.CLOSE_BOX)\n",
    "frame.Show()\n",
    "\n",
    "app.MainLoop()"
   ]
  },
  {
   "cell_type": "code",
   "execution_count": 10,
   "metadata": {},
   "outputs": [],
   "source": [
    "# Constructor para una ventana.\n",
    "\n",
    "import wx\n",
    "\n",
    "class Ventana_Ejemplo(wx.Frame):\n",
    "    def __init__(self, parent, title):\n",
    "        super(Ventana_Ejemplo, self).__init__(parent, title = \"Segunda Ventana\", size = (200,200))\n",
    "# Podemos colocar la ventana en una posición determinada, en este caso en el centro.\n",
    "        self.Centre()\n",
    "# En este caso la colocamos en la posición 10,10\n",
    "        self.SetPosition((10,10))\n",
    "        self.Show(True)\n",
    "\n",
    "        \n",
    "if __name__ == \"__main__\":\n",
    "    app = wx.App()\n",
    "    Ventana_Ejemplo(None, title = \"Nueva Ventana\")\n",
    "    app.MainLoop()    "
   ]
  },
  {
   "cell_type": "code",
   "execution_count": 1,
   "metadata": {},
   "outputs": [
    {
     "data": {
      "text/plain": [
       "0"
      ]
     },
     "execution_count": 1,
     "metadata": {},
     "output_type": "execute_result"
    }
   ],
   "source": [
    "# Definición de un menú para una ventana.\n",
    "\n",
    "import wx\n",
    "\n",
    "class EjemploMenu(wx.Frame):\n",
    "    def __init__(self, parent, title):\n",
    "        super(EjemploMenu, self).__init__(parent, title = title)\n",
    "        self.InitUI()\n",
    "    \n",
    "    def InitUI(self):\n",
    "        menubar = wx.MenuBar()\n",
    "        fileMenu =wx.Menu()\n",
    "        \n",
    "        fileItem = fileMenu.Append(wx.ID_EXIT, \"Salir\", \"Salir de la App\")\n",
    "        menubar.Append(fileMenu, \"&Archivo)\")\n",
    "        self.SetMenuBar(menubar)\n",
    "        self.Bind(wx.EVT_MENU, self.OnQuit, fileItem)\n",
    "        self.Show(True)\n",
    "\n",
    "    def OnQuit(self, e):\n",
    "        self.Close()\n",
    "\n",
    "frame = wx.App()\n",
    "EjemploMenu(None, \"Word\")\n",
    "frame.MainLoop()\n"
   ]
  },
  {
   "cell_type": "code",
   "execution_count": 1,
   "metadata": {},
   "outputs": [
    {
     "name": "stderr",
     "output_type": "stream",
     "text": [
      "C:\\Users\\gabriel.marin\\AppData\\Local\\Continuum\\anaconda3\\lib\\site-packages\\ipykernel_launcher.py:23: wxPyDeprecationWarning: Call to deprecated item. Use Append instead.\n",
      "C:\\Users\\gabriel.marin\\AppData\\Local\\Continuum\\anaconda3\\lib\\site-packages\\ipykernel_launcher.py:26: wxPyDeprecationWarning: Call to deprecated item. Use Append instead.\n"
     ]
    },
    {
     "data": {
      "text/plain": [
       "0"
      ]
     },
     "execution_count": 1,
     "metadata": {},
     "output_type": "execute_result"
    }
   ],
   "source": [
    "import wx\n",
    "\n",
    "class EjemploMenu(wx.Frame):\n",
    "    def __init__(self, parent, title):\n",
    "        super(EjemploMenu, self).__init__(parent, title = title)\n",
    "        self.InitUI()\n",
    "    \n",
    "    def InitUI(self):\n",
    "        menubar = wx.MenuBar()\n",
    "        \n",
    "        archivo = wx.Menu()\n",
    "        archivo.Append(wx.ID_FILE, '&Archivo')\n",
    "        archivo.Append(wx.ID_EDIT, '&Editar')\n",
    "        archivo.Append(wx.ID_SAVE, '&Guardar')\n",
    "        archivo.Append(wx.ID_HELP, '&Ayuda')\n",
    "        archivo.AppendSeparator()\n",
    "        \n",
    "        edit = wx.Menu()\n",
    "        edit.Append(wx.ID_ANY, \"&ZItem\")\n",
    "        edit.Append(wx.ID_ANY, \"&XItem\")\n",
    "        edit.Append(wx.ID_ANY, \"&WItem\")\n",
    "        \n",
    "        archivo.AppendMenu(wx.ID_ANY, '&editar', edit)\n",
    "        \n",
    "        opcion = wx.MenuItem(archivo, wx.ID_ANY, '&Salir')\n",
    "        archivo.AppendItem(opcion)\n",
    "        \n",
    "        self.Bind(wx.EVT_MENU, self.OnQuit, opcion)\n",
    "        menubar.Append(archivo, \"&Archivo\")\n",
    "        \n",
    "        self.SetMenuBar(menubar)\n",
    "        self.Show(True)\n",
    "\n",
    "    def OnQuit(self, e):\n",
    "        self.Close()\n",
    "\n",
    "frame = wx.App()\n",
    "EjemploMenu(None, \"Word\")\n",
    "frame.MainLoop()\n"
   ]
  },
  {
   "cell_type": "code",
   "execution_count": 2,
   "metadata": {},
   "outputs": [
    {
     "data": {
      "text/plain": [
       "0"
      ]
     },
     "execution_count": 2,
     "metadata": {},
     "output_type": "execute_result"
    }
   ],
   "source": [
    "# Creación de una Interfaz Gráfica con Python\n",
    "import wx\n",
    "\n",
    "class EjemploTexto(wx.Frame):\n",
    "    def __init__(self, parent):\n",
    "        wx.Frame.__init__(self, parent)\n",
    "        self.InitUI()\n",
    "        self.Centre()\n",
    "\n",
    "    def InitUI(self):\n",
    "        self.panel = wx.Panel (self)\n",
    "        self.sizer = wx.GridBagSizer (3, 2)\n",
    "        \n",
    "        self.texto = wx.StaticText(self.panel, label = \"Nombre:\")\n",
    "        self.sizer.Add(self.texto, pos = (0,0), flag = wx.TOP|wx.LEFT|wx.BOTTOM, border = 5)\n",
    "        \n",
    "        self.textonuevo = wx.StaticText(self.panel, label = \"Me llamo\")\n",
    "        self.sizer.Add(self.textonuevo, pos = (1,0), flag = wx.TOP|wx.LEFT|wx.BOTTOM, border = 5)\n",
    "        \n",
    "        self.textoedit = wx.TextCtrl(self.panel)\n",
    "        self.sizer.Add(self.textoedit, pos = (0,1), span = (1,3), flag = wx.EXPAND|wx.LEFT|wx.RIGHT, border = 5)\n",
    "        \n",
    "        self.boton = wx.Button(self.panel, label = \"enviar\", size = (90, 50))\n",
    "        self.sizer.Add (self.boton, pos = (3, 3), flag = wx.RIGHT|wx.BOTTOM)\n",
    "        \n",
    "        self.panel.Bind(wx.EVT_BUTTON, self.TomarTexto, self.boton)\n",
    "        \n",
    "        self.panel.SetSizerAndFit(self.sizer)\n",
    "        \n",
    "    def TomarTexto (self, event):\n",
    "        textotomado = \"Hola Mundo\"\n",
    "        textotomado = self.textoedit.GetValue()\n",
    "        self.textonuevo.SetLabel(textotomado)\n",
    "            \n",
    "    \n",
    "app = wx.App(False)\n",
    "frame = EjemploTexto(None)\n",
    "frame.Show()\n",
    "app.MainLoop()"
   ]
  },
  {
   "cell_type": "code",
   "execution_count": null,
   "metadata": {},
   "outputs": [],
   "source": []
  }
 ],
 "metadata": {
  "kernelspec": {
   "display_name": "Python 3",
   "language": "python",
   "name": "python3"
  },
  "language_info": {
   "codemirror_mode": {
    "name": "ipython",
    "version": 3
   },
   "file_extension": ".py",
   "mimetype": "text/x-python",
   "name": "python",
   "nbconvert_exporter": "python",
   "pygments_lexer": "ipython3",
   "version": "3.7.4"
  }
 },
 "nbformat": 4,
 "nbformat_minor": 2
}
