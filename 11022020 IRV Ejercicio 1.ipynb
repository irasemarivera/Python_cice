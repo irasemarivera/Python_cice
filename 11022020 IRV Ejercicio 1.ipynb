{
 "cells": [
  {
   "cell_type": "code",
   "execution_count": 92,
   "metadata": {},
   "outputs": [
    {
     "name": "stdout",
     "output_type": "stream",
     "text": [
      "Lambda para determinar si un numero es par o impar\n",
      "Dame un numero 7\n",
      "7 es impar\n"
     ]
    }
   ],
   "source": [
    "#Ejercicio 1\n",
    "print(\"Lambda para determinar si un numero es par o impar\")\n",
    "n = int(input(\"Dame un numero \"))\n",
    "par = lambda x: x % 2 == 0\n",
    "if (par(n) == True):\n",
    "    print(n, \"es par\")\n",
    "else:\n",
    "    print(n, \"es impar\")"
   ]
  },
  {
   "cell_type": "code",
   "execution_count": 91,
   "metadata": {},
   "outputs": [
    {
     "name": "stdout",
     "output_type": "stream",
     "text": [
      "Determinar el mayor de 3 números dados\n",
      "Dame numero 1: 4\n",
      "Dame numero 2: 5\n",
      "Dame numero 3: 2\n",
      "El mayor es: 5\n"
     ]
    }
   ],
   "source": [
    "#Ejercicio 2\n",
    "def max_de_tres(a, b, c):\n",
    "    if a > b and a > c: \n",
    "        return a\n",
    "    elif b > a and b > c:\n",
    "        return b\n",
    "    else:\n",
    "        return c\n",
    "    \n",
    "print(\"Determinar el mayor de 3 números dados\")\n",
    "a = int(input(\"Dame numero 1: \"))\n",
    "b = int(input(\"Dame numero 2: \"))\n",
    "c = int(input(\"Dame numero 3: \"))\n",
    "print(\"El mayor es:\", max_de_tres(a, b, c))"
   ]
  },
  {
   "cell_type": "code",
   "execution_count": 111,
   "metadata": {},
   "outputs": [
    {
     "name": "stdout",
     "output_type": "stream",
     "text": [
      "Determinar si la letra dada es una vocal o no\n",
      "Dame una letra: eo\n",
      "'e' es vocal\n"
     ]
    }
   ],
   "source": [
    "#Ejercicio 3\n",
    "def es_vocal(letra):\n",
    "    vocal = lambda l: l in \"aeiou\"\n",
    "    if vocal(letra) == True:\n",
    "        return \"'{}' es vocal\".format(letra)\n",
    "    else:\n",
    "        return \"'{}' no es vocal\".format(letra)\n",
    "\n",
    "print(\"Determinar si la letra dada es una vocal o no\")\n",
    "letra = input(\"Dame una letra: \")\n",
    "letra = letra[0].lower()\n",
    "print(es_vocal(letra))"
   ]
  },
  {
   "cell_type": "code",
   "execution_count": 110,
   "metadata": {},
   "outputs": [
    {
     "name": "stdout",
     "output_type": "stream",
     "text": [
      "Imprimir la suma y multiplicación de 2 listas dadas por el usuario\n",
      "Lista 1\n",
      "Número 1/5 1\n",
      "Número 2/5 2\n",
      "Número 3/5 3\n",
      "Número 4/5 4\n",
      "Número 5/5 5\n",
      "Lista 2\n",
      "Número 1/5 3\n",
      "Número 2/5 4\n",
      "Número 3/5 5\n",
      "Número 4/5 6\n",
      "Número 5/5 7\n",
      "Lista originales\n",
      "[1, 2, 3, 4, 5]\n",
      "[3, 4, 5, 6, 7]\n",
      "Resultado\n",
      "[4, 6, 8, 10, 12]\n",
      "[3, 8, 15, 24, 35]\n"
     ]
    }
   ],
   "source": [
    "#Ejercicio 4\n",
    "def suma(a, b):\n",
    "    return list(map(lambda x,y: x+y, a,b))\n",
    "\n",
    "def multip(a, b):\n",
    "    return list(map(lambda x,y: x*y, a,b))\n",
    "\n",
    "print(\"Imprimir la suma y multiplicación de 2 listas dadas por el usuario\")\n",
    "lista = list()\n",
    "i = 1\n",
    "while i <= 2:\n",
    "    j = 1\n",
    "    temp = list()\n",
    "    print(\"Lista\", i)\n",
    "    while j <= 5:\n",
    "        n1 = int(input(\"Número {}/5 \".format(j)))\n",
    "        temp.append(n1)\n",
    "        j += 1\n",
    "    lista.append(temp)\n",
    "    i += 1\n",
    "print(\"Lista originales\")\n",
    "print(lista[0])\n",
    "print(lista[1])\n",
    "print(\"Resultado\")\n",
    "print(suma(lista[0], lista[1]))\n",
    "print(multip(lista[0], lista[1]))\n",
    "                  "
   ]
  },
  {
   "cell_type": "code",
   "execution_count": 103,
   "metadata": {},
   "outputs": [
    {
     "name": "stdout",
     "output_type": "stream",
     "text": [
      "Calcular cuantos años cumplen 3 personas en el año actual\n",
      "Persona 1\n",
      "Nombre: Irasema\n",
      "Año de nacimiento: 1986\n",
      "Persona 2\n",
      "Nombre: Miguel\n",
      "Año de nacimiento: 1981\n",
      "Persona 3\n",
      "Nombre: Juan\n",
      "Año de nacimiento: 1990\n",
      "Irasema, nacido en 1986 cumple 34 años en 2020\n",
      "Miguel, nacido en 1981 cumple 39 años en 2020\n",
      "Juan, nacido en 1990 cumple 30 años en 2020\n"
     ]
    }
   ],
   "source": [
    "#Ejercicio 5\n",
    "from datetime import datetime\n",
    "año_actual = now = datetime.now().year\n",
    "\n",
    "class Persona:\n",
    "    def __init__(self, nombre, año_nac):\n",
    "        self.nombre = nombre\n",
    "        self.año_nac = año_nac\n",
    "        self.edad = año_actual - self.año_nac \n",
    "    \n",
    "    def __str__(self):\n",
    "        return \"{}, nacido en {}\".format(self.nombre, self.año_nac)\n",
    "\n",
    "print(\"Calcular cuantos años cumplen 3 personas en el año actual\")\n",
    "#año_actual = int(input(\"Año actual:\"))\n",
    "personas = []\n",
    "i = 1\n",
    "while (i <= 3):\n",
    "    print(\"Persona\",i)\n",
    "    nombre = input(\"Nombre: \")\n",
    "    año_nac = int(input(\"Año de nacimiento: \"))\n",
    "    p = Persona(nombre, año_nac)\n",
    "    personas.append(p)\n",
    "    i += 1\n",
    "\n",
    "for p in personas:\n",
    "    print(p, \"cumple\", p.edad, \"años en\", año_actual)"
   ]
  },
  {
   "cell_type": "code",
   "execution_count": 104,
   "metadata": {},
   "outputs": [
    {
     "name": "stdout",
     "output_type": "stream",
     "text": [
      "Persona 4\n",
      "Nombre: Arturo\n",
      "Año de nacimiento: 2000\n",
      "Persona 5\n",
      "Nombre: Julia\n",
      "Año de nacimiento: 1999\n",
      "Persona 6\n",
      "Nombre: Marco\n",
      "Año de nacimiento: 2001\n",
      "Persona 7\n",
      "Nombre: Estela\n",
      "Año de nacimiento: 1998\n",
      "Persona 8\n",
      "Nombre: Luz\n",
      "Año de nacimiento: 2002\n",
      "Persona 9\n",
      "Nombre: Ramon\n",
      "Año de nacimiento: 2005\n",
      "Persona 10\n",
      "Nombre: Ana\n",
      "Año de nacimiento: 1995\n",
      "Personas mayores de 20 años\n",
      "Irasema\n",
      "Miguel\n",
      "Juan\n",
      "Julia\n",
      "Estela\n",
      "Ana\n"
     ]
    }
   ],
   "source": [
    "#Ejercicio 6\n",
    "i = 4\n",
    "while (i <= 10):\n",
    "    print(\"Persona\",i)\n",
    "    nombre = input(\"Nombre: \")\n",
    "    año_nac = int(input(\"Año de nacimiento: \"))\n",
    "    p = Persona(nombre, año_nac)\n",
    "    personas.append(p)\n",
    "    i += 1\n",
    "\n",
    "mayores = list(filter(lambda persona: persona.edad > 20, personas))\n",
    "\n",
    "print(\"Personas mayores de 20 años\")\n",
    "for p in mayores:\n",
    "    print(p.nombre)"
   ]
  },
  {
   "cell_type": "code",
   "execution_count": 106,
   "metadata": {},
   "outputs": [
    {
     "name": "stdout",
     "output_type": "stream",
     "text": [
      "Buscar los nombres que empiecen con una letra\n",
      "Letra a buscar:j\n",
      "Nombres de personas que empiezan con 'j'\n",
      "Juan\n",
      "Julia\n"
     ]
    }
   ],
   "source": [
    "#Ejercicio 7\n",
    "print(\"Buscar los nombres que empiecen con una letra\")\n",
    "letra = input(\"Letra a buscar:\")\n",
    "letra = letra[0].lower()\n",
    "empiezan_con_a = list(filter(lambda p: p.nombre[0].lower() == letra, personas))\n",
    "\n",
    "print(\"Nombres de personas que empiezan con '{}'\".format(letra))\n",
    "for p in empiezan_con_a:\n",
    "    print(p.nombre)"
   ]
  },
  {
   "cell_type": "code",
   "execution_count": 122,
   "metadata": {},
   "outputs": [
    {
     "name": "stdout",
     "output_type": "stream",
     "text": [
      "Contar cuántas vocales tiene una palabra\n",
      "Escribe una palabra:irasema\n",
      "Total de 'a': 2\n",
      "Total de 'e': 1\n",
      "Total de 'i': 1\n",
      "Total de 'o': 0\n",
      "Total de 'u': 0\n"
     ]
    }
   ],
   "source": [
    "#Ejercicio 8\n",
    "def cuenta_vocales(palabra):\n",
    "    print(\"Total de 'a':\", palabra.count(\"a\"))\n",
    "    print(\"Total de 'e':\", palabra.count(\"e\"))\n",
    "    print(\"Total de 'i':\", palabra.count(\"i\"))\n",
    "    print(\"Total de 'o':\", palabra.count(\"o\"))\n",
    "    print(\"Total de 'u':\", palabra.count(\"u\"))\n",
    "\n",
    "print(\"Contar cuántas vocales tiene una palabra\")\n",
    "palabra = input(\"Escribe una palabra:\")\n",
    "palabra = palabra.lower()\n",
    "cuenta_vocales(palabra)"
   ]
  },
  {
   "cell_type": "code",
   "execution_count": 127,
   "metadata": {},
   "outputs": [
    {
     "name": "stdout",
     "output_type": "stream",
     "text": [
      "Determinar si un año es bisiesto\n",
      "Dame un año:2019\n",
      "El año 2019 no es bisiesto\n"
     ]
    }
   ],
   "source": [
    "\"Ejercicio 9\"\n",
    "print(\"Determinar si un año es bisiesto\")\n",
    "año = int(input(\"Dame un año:\"))\n",
    "bisiesto = lambda x: ((x % 4 == 0 and x % 100 > 0) or x % 400 == 0)\n",
    "if bisiesto(año) == True:\n",
    "    print(\"El año\", año, \"es bisiesto\")\n",
    "else:\n",
    "    print(\"El año\", año, \"no es bisiesto\")\n"
   ]
  },
  {
   "cell_type": "code",
   "execution_count": 139,
   "metadata": {},
   "outputs": [
    {
     "name": "stdout",
     "output_type": "stream",
     "text": [
      "Determinar si 2 palabras dadas riman o no\n",
      "Palabra 1:ana\n",
      "Palabra 2:conda\n",
      "'ana' y 'conda' no riman\n"
     ]
    }
   ],
   "source": [
    "#Ejercicio 10\n",
    "print(\"Determinar si 2 palabras dadas riman o no\")\n",
    "def riman(p1, p2):\n",
    "    p1 = p1.lower()\n",
    "    p2 = p2.lower()\n",
    "    if p1[-3:] == p2[-3:]:\n",
    "        return \"riman\"\n",
    "    elif p1[-2:] == p2[-2:]:\n",
    "        return \"riman un poco\"\n",
    "    else:\n",
    "        return \"no riman\"\n",
    "        \n",
    "p1 = input(\"Palabra 1:\")\n",
    "p2 = input(\"Palabra 2:\")\n",
    "print(\"'{}' y '{}' {}\".format(p1, p2, riman(p1, p2)))"
   ]
  }
 ],
 "metadata": {
  "kernelspec": {
   "display_name": "Python 3",
   "language": "python",
   "name": "python3"
  },
  "language_info": {
   "codemirror_mode": {
    "name": "ipython",
    "version": 3
   },
   "file_extension": ".py",
   "mimetype": "text/x-python",
   "name": "python",
   "nbconvert_exporter": "python",
   "pygments_lexer": "ipython3",
   "version": "3.8.3"
  }
 },
 "nbformat": 4,
 "nbformat_minor": 4
}
