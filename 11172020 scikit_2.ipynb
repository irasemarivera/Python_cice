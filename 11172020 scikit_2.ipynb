{
 "cells": [
  {
   "cell_type": "markdown",
   "metadata": {},
   "source": [
    "# NumPy"
   ]
  },
  {
   "cell_type": "code",
   "execution_count": 3,
   "metadata": {},
   "outputs": [
    {
     "data": {
      "text/plain": [
       "'1.18.5'"
      ]
     },
     "execution_count": 3,
     "metadata": {},
     "output_type": "execute_result"
    }
   ],
   "source": [
    "# Cargamos Numpy y la biblioteca de algebra lineal (linalg)\n",
    "import numpy as np\n",
    "from numpy import linalg\n",
    "\n",
    "np.__version__"
   ]
  },
  {
   "cell_type": "code",
   "execution_count": 4,
   "metadata": {
    "scrolled": true
   },
   "outputs": [
    {
     "name": "stdout",
     "output_type": "stream",
     "text": [
      "[1 2 3]\n",
      "2\n",
      "[[1 2 3]\n",
      " [0 1 4]\n",
      " [5 6 0]]\n",
      "6\n",
      "[14 14 17]\n",
      "[[-24.  18.   5.]\n",
      " [ 20. -15.  -4.]\n",
      " [ -5.   4.   1.]]\n",
      "[[ 1.00000000e+00 -1.77635684e-15 -4.44089210e-16]\n",
      " [ 0.00000000e+00  1.00000000e+00  0.00000000e+00]\n",
      " [ 0.00000000e+00  0.00000000e+00  1.00000000e+00]]\n"
     ]
    }
   ],
   "source": [
    "# Ejemplo mínimo de NumPy\n",
    "\n",
    "v = np.array([1,2,3])\n",
    "print(v)\n",
    "print(v[1])\n",
    "\n",
    "m = np.array([[1,2,3],[0,1,4],[5,6,0]])\n",
    "print(m)\n",
    "print(m[2,1])\n",
    "\n",
    "# Multiplicación matriz-vector\n",
    "print(m @ v)\n",
    "\n",
    "# Inversa de una matriz\n",
    "m_inv = linalg.inv(m)\n",
    "print(m_inv)\n",
    "\n",
    "# Multiplicación matriz-matriz\n",
    "print(m @ m_inv)\n",
    "\n",
    "# Debería dar como valor la matriz identidad, alguno de los elementos son muy cercanos a 0."
   ]
  },
  {
   "cell_type": "markdown",
   "metadata": {},
   "source": [
    "# Pandas"
   ]
  },
  {
   "cell_type": "markdown",
   "metadata": {},
   "source": [
    "## Carga desde fichero"
   ]
  },
  {
   "cell_type": "code",
   "execution_count": 5,
   "metadata": {},
   "outputs": [
    {
     "data": {
      "text/plain": [
       "'1.0.5'"
      ]
     },
     "execution_count": 5,
     "metadata": {},
     "output_type": "execute_result"
    }
   ],
   "source": [
    "# Pandas como hemos visto es una biblioteca utilizada para el análisis de datos, basada en Numpy.\n",
    "import pandas as pd\n",
    "pd.__version__"
   ]
  },
  {
   "cell_type": "code",
   "execution_count": 6,
   "metadata": {},
   "outputs": [],
   "source": [
    "# Carga el fichero de datos de pasajeros del Titanic.\n",
    "df = pd.read_csv('data/titanic.csv')"
   ]
  },
  {
   "cell_type": "raw",
   "metadata": {},
   "source": [
    "PassengerId: identificador único del pasajero.\n",
    "\n",
    "Survived: si el pasajero sobrevivió al naufragio, codificada como 0 (no) y 1 (si). Esta es la variable respuesta que interesa predecir.\n",
    "\n",
    "Pclass: clase a la que pertenecía el pasajero: 1, 2 o 3.\n",
    "\n",
    "Name: nombre del pasajero.\n",
    "\n",
    "Sex: sexo del pasajero.\n",
    "\n",
    "Age: edad del pasajero.\n",
    "\n",
    "SibSp: número de hermanos, hermanas, hermanastros o hermanastras en el barco.\n",
    "\n",
    "Parch: número de padres e hijos en el barco.\n",
    "\n",
    "Ticket: identificador del billete.\n",
    "\n",
    "Fare: precio pagado por el billete.\n",
    "\n",
    "Cabin: identificador del camarote asignado al pasajero.\n",
    "\n",
    "Embarked: puerto en el que embarcó el pasajero."
   ]
  },
  {
   "cell_type": "code",
   "execution_count": 7,
   "metadata": {},
   "outputs": [
    {
     "name": "stdout",
     "output_type": "stream",
     "text": [
      "                     Asociación  Importe total  Importe justificado  Restante\n",
      "0          AMPA ANTONIO MACHADO        2344.99                    0       NaN\n",
      "1   AMPA BACHILLER ALONSO LOPEZ        3200.00                    0       NaN\n",
      "2                 AMPA CASTILLA        2604.44                    0       NaN\n",
      "3          AMPA DAOIZ Y VELARDE        3152.74                    0       NaN\n",
      "4            AMPA EMILIO CASADO        3015.67                    0       NaN\n",
      "5    AMPA FEDERICO GARCIA LORCA        1919.06                    0       NaN\n",
      "6          AMPA GABRIEL Y GALAN        2741.51                    0       NaN\n",
      "7              AMPA LUIS BUÑUEL        2081.00                    0       NaN\n",
      "8         AMPA MIGUEL HERNANDEZ        2923.35                    0       NaN\n",
      "9               AMPA MIRAFLORES        2787.21                    0       NaN\n",
      "10         AMPA PARQUE CATALUÑA        2604.44                    0       NaN\n",
      "11  AMPA PROFESOR TIERNO GALVÁN        1286.00                    0       NaN\n",
      "12       AMPA SEIS DE DICIEMBRE        1950.00                    0       NaN\n",
      "13            AMPA VALDEPALITOS        3929.50                    0       NaN\n",
      "14              AMPA LA CHOPERA        1430.00                    0       NaN\n",
      "15             AMPA EL CUQUILLO        1507.83                    0       NaN\n",
      "16            AMPA VALDELAPARRA        2465.00                    0       NaN\n",
      "17                AMPA RIVENDEL        2200.00                    0       NaN\n",
      "18                   AMPA AGORA        2421.67                    0       NaN\n",
      "19               AMPA ALDEBARAN        3107.05                    0       NaN\n",
      "20       AMPA GINER DE LOS RIOS        2058.00                    0       NaN\n",
      "21            AMPA SEVERO OCHOA        3563.97                    0       NaN\n",
      "22        AMPA VIRGEN DE LA PAZ        1416.45                    0       NaN\n",
      "23              AMPA JUAN XXIII        1781.98                    0       NaN\n",
      "24             AMPA SAN ANTONIO        2101.83                    0       NaN\n",
      "25         AMPA PADRE  MANYANET        2695.82                    0       NaN\n",
      "26                    AMPA FAPA        3198.43                    0       NaN\n"
     ]
    }
   ],
   "source": [
    "# Lectura de todas las hojas de 'data/Cap5/subvenciones_totales.xls', devuelve un diccionario ordenado (str, DataFrame)\n",
    "# Con sheet_name = None cargamos todas las hojas del fichero. Y seleccionamos luego la hoja Totales.\n",
    "subvenciones = pd.read_excel('data/subvenciones_totales.xls', sheet_name=None)\n",
    "print(subvenciones['Totales'])"
   ]
  },
  {
   "cell_type": "markdown",
   "metadata": {},
   "source": [
    "## Visualizar y extraer información"
   ]
  },
  {
   "cell_type": "code",
   "execution_count": 8,
   "metadata": {
    "scrolled": false
   },
   "outputs": [
    {
     "data": {
      "text/html": [
       "<div>\n",
       "<style scoped>\n",
       "    .dataframe tbody tr th:only-of-type {\n",
       "        vertical-align: middle;\n",
       "    }\n",
       "\n",
       "    .dataframe tbody tr th {\n",
       "        vertical-align: top;\n",
       "    }\n",
       "\n",
       "    .dataframe thead th {\n",
       "        text-align: right;\n",
       "    }\n",
       "</style>\n",
       "<table border=\"1\" class=\"dataframe\">\n",
       "  <thead>\n",
       "    <tr style=\"text-align: right;\">\n",
       "      <th></th>\n",
       "      <th>PassengerId</th>\n",
       "      <th>Survived</th>\n",
       "      <th>Pclass</th>\n",
       "      <th>Name</th>\n",
       "      <th>Sex</th>\n",
       "      <th>Age</th>\n",
       "      <th>SibSp</th>\n",
       "      <th>Parch</th>\n",
       "      <th>Ticket</th>\n",
       "      <th>Fare</th>\n",
       "      <th>Cabin</th>\n",
       "      <th>Embarked</th>\n",
       "    </tr>\n",
       "  </thead>\n",
       "  <tbody>\n",
       "    <tr>\n",
       "      <th>0</th>\n",
       "      <td>1</td>\n",
       "      <td>0</td>\n",
       "      <td>3</td>\n",
       "      <td>Braund, Mr. Owen Harris</td>\n",
       "      <td>male</td>\n",
       "      <td>22.0</td>\n",
       "      <td>1</td>\n",
       "      <td>0</td>\n",
       "      <td>A/5 21171</td>\n",
       "      <td>7.2500</td>\n",
       "      <td>NaN</td>\n",
       "      <td>S</td>\n",
       "    </tr>\n",
       "    <tr>\n",
       "      <th>1</th>\n",
       "      <td>2</td>\n",
       "      <td>1</td>\n",
       "      <td>1</td>\n",
       "      <td>Cumings, Mrs. John Bradley (Florence Briggs Th...</td>\n",
       "      <td>female</td>\n",
       "      <td>38.0</td>\n",
       "      <td>1</td>\n",
       "      <td>0</td>\n",
       "      <td>PC 17599</td>\n",
       "      <td>71.2833</td>\n",
       "      <td>C85</td>\n",
       "      <td>C</td>\n",
       "    </tr>\n",
       "    <tr>\n",
       "      <th>2</th>\n",
       "      <td>3</td>\n",
       "      <td>1</td>\n",
       "      <td>3</td>\n",
       "      <td>Heikkinen, Miss. Laina</td>\n",
       "      <td>female</td>\n",
       "      <td>26.0</td>\n",
       "      <td>0</td>\n",
       "      <td>0</td>\n",
       "      <td>STON/O2. 3101282</td>\n",
       "      <td>7.9250</td>\n",
       "      <td>NaN</td>\n",
       "      <td>S</td>\n",
       "    </tr>\n",
       "    <tr>\n",
       "      <th>3</th>\n",
       "      <td>4</td>\n",
       "      <td>1</td>\n",
       "      <td>1</td>\n",
       "      <td>Futrelle, Mrs. Jacques Heath (Lily May Peel)</td>\n",
       "      <td>female</td>\n",
       "      <td>35.0</td>\n",
       "      <td>1</td>\n",
       "      <td>0</td>\n",
       "      <td>113803</td>\n",
       "      <td>53.1000</td>\n",
       "      <td>C123</td>\n",
       "      <td>S</td>\n",
       "    </tr>\n",
       "    <tr>\n",
       "      <th>4</th>\n",
       "      <td>5</td>\n",
       "      <td>0</td>\n",
       "      <td>3</td>\n",
       "      <td>Allen, Mr. William Henry</td>\n",
       "      <td>male</td>\n",
       "      <td>35.0</td>\n",
       "      <td>0</td>\n",
       "      <td>0</td>\n",
       "      <td>373450</td>\n",
       "      <td>8.0500</td>\n",
       "      <td>NaN</td>\n",
       "      <td>S</td>\n",
       "    </tr>\n",
       "    <tr>\n",
       "      <th>...</th>\n",
       "      <td>...</td>\n",
       "      <td>...</td>\n",
       "      <td>...</td>\n",
       "      <td>...</td>\n",
       "      <td>...</td>\n",
       "      <td>...</td>\n",
       "      <td>...</td>\n",
       "      <td>...</td>\n",
       "      <td>...</td>\n",
       "      <td>...</td>\n",
       "      <td>...</td>\n",
       "      <td>...</td>\n",
       "    </tr>\n",
       "    <tr>\n",
       "      <th>886</th>\n",
       "      <td>887</td>\n",
       "      <td>0</td>\n",
       "      <td>2</td>\n",
       "      <td>Montvila, Rev. Juozas</td>\n",
       "      <td>male</td>\n",
       "      <td>27.0</td>\n",
       "      <td>0</td>\n",
       "      <td>0</td>\n",
       "      <td>211536</td>\n",
       "      <td>13.0000</td>\n",
       "      <td>NaN</td>\n",
       "      <td>S</td>\n",
       "    </tr>\n",
       "    <tr>\n",
       "      <th>887</th>\n",
       "      <td>888</td>\n",
       "      <td>1</td>\n",
       "      <td>1</td>\n",
       "      <td>Graham, Miss. Margaret Edith</td>\n",
       "      <td>female</td>\n",
       "      <td>19.0</td>\n",
       "      <td>0</td>\n",
       "      <td>0</td>\n",
       "      <td>112053</td>\n",
       "      <td>30.0000</td>\n",
       "      <td>B42</td>\n",
       "      <td>S</td>\n",
       "    </tr>\n",
       "    <tr>\n",
       "      <th>888</th>\n",
       "      <td>889</td>\n",
       "      <td>0</td>\n",
       "      <td>3</td>\n",
       "      <td>Johnston, Miss. Catherine Helen \"Carrie\"</td>\n",
       "      <td>female</td>\n",
       "      <td>NaN</td>\n",
       "      <td>1</td>\n",
       "      <td>2</td>\n",
       "      <td>W./C. 6607</td>\n",
       "      <td>23.4500</td>\n",
       "      <td>NaN</td>\n",
       "      <td>S</td>\n",
       "    </tr>\n",
       "    <tr>\n",
       "      <th>889</th>\n",
       "      <td>890</td>\n",
       "      <td>1</td>\n",
       "      <td>1</td>\n",
       "      <td>Behr, Mr. Karl Howell</td>\n",
       "      <td>male</td>\n",
       "      <td>26.0</td>\n",
       "      <td>0</td>\n",
       "      <td>0</td>\n",
       "      <td>111369</td>\n",
       "      <td>30.0000</td>\n",
       "      <td>C148</td>\n",
       "      <td>C</td>\n",
       "    </tr>\n",
       "    <tr>\n",
       "      <th>890</th>\n",
       "      <td>891</td>\n",
       "      <td>0</td>\n",
       "      <td>3</td>\n",
       "      <td>Dooley, Mr. Patrick</td>\n",
       "      <td>male</td>\n",
       "      <td>32.0</td>\n",
       "      <td>0</td>\n",
       "      <td>0</td>\n",
       "      <td>370376</td>\n",
       "      <td>7.7500</td>\n",
       "      <td>NaN</td>\n",
       "      <td>Q</td>\n",
       "    </tr>\n",
       "  </tbody>\n",
       "</table>\n",
       "<p>891 rows × 12 columns</p>\n",
       "</div>"
      ],
      "text/plain": [
       "     PassengerId  Survived  Pclass  \\\n",
       "0              1         0       3   \n",
       "1              2         1       1   \n",
       "2              3         1       3   \n",
       "3              4         1       1   \n",
       "4              5         0       3   \n",
       "..           ...       ...     ...   \n",
       "886          887         0       2   \n",
       "887          888         1       1   \n",
       "888          889         0       3   \n",
       "889          890         1       1   \n",
       "890          891         0       3   \n",
       "\n",
       "                                                  Name     Sex   Age  SibSp  \\\n",
       "0                              Braund, Mr. Owen Harris    male  22.0      1   \n",
       "1    Cumings, Mrs. John Bradley (Florence Briggs Th...  female  38.0      1   \n",
       "2                               Heikkinen, Miss. Laina  female  26.0      0   \n",
       "3         Futrelle, Mrs. Jacques Heath (Lily May Peel)  female  35.0      1   \n",
       "4                             Allen, Mr. William Henry    male  35.0      0   \n",
       "..                                                 ...     ...   ...    ...   \n",
       "886                              Montvila, Rev. Juozas    male  27.0      0   \n",
       "887                       Graham, Miss. Margaret Edith  female  19.0      0   \n",
       "888           Johnston, Miss. Catherine Helen \"Carrie\"  female   NaN      1   \n",
       "889                              Behr, Mr. Karl Howell    male  26.0      0   \n",
       "890                                Dooley, Mr. Patrick    male  32.0      0   \n",
       "\n",
       "     Parch            Ticket     Fare Cabin Embarked  \n",
       "0        0         A/5 21171   7.2500   NaN        S  \n",
       "1        0          PC 17599  71.2833   C85        C  \n",
       "2        0  STON/O2. 3101282   7.9250   NaN        S  \n",
       "3        0            113803  53.1000  C123        S  \n",
       "4        0            373450   8.0500   NaN        S  \n",
       "..     ...               ...      ...   ...      ...  \n",
       "886      0            211536  13.0000   NaN        S  \n",
       "887      0            112053  30.0000   B42        S  \n",
       "888      2        W./C. 6607  23.4500   NaN        S  \n",
       "889      0            111369  30.0000  C148        C  \n",
       "890      0            370376   7.7500   NaN        Q  \n",
       "\n",
       "[891 rows x 12 columns]"
      ]
     },
     "execution_count": 8,
     "metadata": {},
     "output_type": "execute_result"
    }
   ],
   "source": [
    "# Visualizar el principio y final de un DataFrame\n",
    "df"
   ]
  },
  {
   "cell_type": "code",
   "execution_count": 7,
   "metadata": {},
   "outputs": [
    {
     "name": "stdout",
     "output_type": "stream",
     "text": [
      "     PassengerId  Survived  Pclass  \\\n",
      "0              1         0       3   \n",
      "1              2         1       1   \n",
      "2              3         1       3   \n",
      "3              4         1       1   \n",
      "4              5         0       3   \n",
      "..           ...       ...     ...   \n",
      "886          887         0       2   \n",
      "887          888         1       1   \n",
      "888          889         0       3   \n",
      "889          890         1       1   \n",
      "890          891         0       3   \n",
      "\n",
      "                                                  Name     Sex   Age  SibSp  \\\n",
      "0                              Braund, Mr. Owen Harris    male  22.0      1   \n",
      "1    Cumings, Mrs. John Bradley (Florence Briggs Th...  female  38.0      1   \n",
      "2                               Heikkinen, Miss. Laina  female  26.0      0   \n",
      "3         Futrelle, Mrs. Jacques Heath (Lily May Peel)  female  35.0      1   \n",
      "4                             Allen, Mr. William Henry    male  35.0      0   \n",
      "..                                                 ...     ...   ...    ...   \n",
      "886                              Montvila, Rev. Juozas    male  27.0      0   \n",
      "887                       Graham, Miss. Margaret Edith  female  19.0      0   \n",
      "888           Johnston, Miss. Catherine Helen \"Carrie\"  female   NaN      1   \n",
      "889                              Behr, Mr. Karl Howell    male  26.0      0   \n",
      "890                                Dooley, Mr. Patrick    male  32.0      0   \n",
      "\n",
      "     Parch            Ticket     Fare Cabin Embarked  \n",
      "0        0         A/5 21171   7.2500   NaN        S  \n",
      "1        0          PC 17599  71.2833   C85        C  \n",
      "2        0  STON/O2. 3101282   7.9250   NaN        S  \n",
      "3        0            113803  53.1000  C123        S  \n",
      "4        0            373450   8.0500   NaN        S  \n",
      "..     ...               ...      ...   ...      ...  \n",
      "886      0            211536  13.0000   NaN        S  \n",
      "887      0            112053  30.0000   B42        S  \n",
      "888      2        W./C. 6607  23.4500   NaN        S  \n",
      "889      0            111369  30.0000  C148        C  \n",
      "890      0            370376   7.7500   NaN        Q  \n",
      "\n",
      "[891 rows x 12 columns]\n"
     ]
    }
   ],
   "source": [
    "# Mostrar el principio y final de un DataFrame, en modo texto\n",
    "print(df)"
   ]
  },
  {
   "cell_type": "code",
   "execution_count": 8,
   "metadata": {},
   "outputs": [
    {
     "data": {
      "text/plain": [
       "Index(['PassengerId', 'Survived', 'Pclass', 'Name', 'Sex', 'Age', 'SibSp',\n",
       "       'Parch', 'Ticket', 'Fare', 'Cabin', 'Embarked'],\n",
       "      dtype='object')"
      ]
     },
     "execution_count": 8,
     "metadata": {},
     "output_type": "execute_result"
    }
   ],
   "source": [
    "# Índice pandas con las columnas de un DataFrame\n",
    "df.columns"
   ]
  },
  {
   "cell_type": "code",
   "execution_count": 9,
   "metadata": {},
   "outputs": [
    {
     "data": {
      "text/plain": [
       "(891, 12)"
      ]
     },
     "execution_count": 9,
     "metadata": {},
     "output_type": "execute_result"
    }
   ],
   "source": [
    "# Tamaño de un DataFrame\n",
    "df.shape"
   ]
  },
  {
   "cell_type": "code",
   "execution_count": 10,
   "metadata": {
    "scrolled": true
   },
   "outputs": [
    {
     "name": "stdout",
     "output_type": "stream",
     "text": [
      "<class 'pandas.core.indexing._iLocIndexer'>\n"
     ]
    }
   ],
   "source": [
    "# .iloc para seleccionar por posición\n",
    "# con estos atributos se puede acceder a una porción de la tabla.\n",
    "\n",
    "print(type(df.iloc))"
   ]
  },
  {
   "cell_type": "code",
   "execution_count": 11,
   "metadata": {},
   "outputs": [
    {
     "data": {
      "text/plain": [
       "PassengerId                           5\n",
       "Survived                              0\n",
       "Pclass                                3\n",
       "Name           Allen, Mr. William Henry\n",
       "Sex                                male\n",
       "Age                                  35\n",
       "SibSp                                 0\n",
       "Parch                                 0\n",
       "Ticket                           373450\n",
       "Fare                               8.05\n",
       "Cabin                               NaN\n",
       "Embarked                              S\n",
       "Name: 4, dtype: object"
      ]
     },
     "metadata": {},
     "output_type": "display_data"
    }
   ],
   "source": [
    "display(df.iloc[4])   # Fila en la posición 4"
   ]
  },
  {
   "cell_type": "code",
   "execution_count": 12,
   "metadata": {},
   "outputs": [
    {
     "data": {
      "text/html": [
       "<div>\n",
       "<style scoped>\n",
       "    .dataframe tbody tr th:only-of-type {\n",
       "        vertical-align: middle;\n",
       "    }\n",
       "\n",
       "    .dataframe tbody tr th {\n",
       "        vertical-align: top;\n",
       "    }\n",
       "\n",
       "    .dataframe thead th {\n",
       "        text-align: right;\n",
       "    }\n",
       "</style>\n",
       "<table border=\"1\" class=\"dataframe\">\n",
       "  <thead>\n",
       "    <tr style=\"text-align: right;\">\n",
       "      <th></th>\n",
       "      <th>PassengerId</th>\n",
       "      <th>Survived</th>\n",
       "      <th>Pclass</th>\n",
       "      <th>Name</th>\n",
       "      <th>Sex</th>\n",
       "      <th>Age</th>\n",
       "      <th>SibSp</th>\n",
       "      <th>Parch</th>\n",
       "      <th>Ticket</th>\n",
       "      <th>Fare</th>\n",
       "      <th>Cabin</th>\n",
       "      <th>Embarked</th>\n",
       "    </tr>\n",
       "  </thead>\n",
       "  <tbody>\n",
       "    <tr>\n",
       "      <th>0</th>\n",
       "      <td>1</td>\n",
       "      <td>0</td>\n",
       "      <td>3</td>\n",
       "      <td>Braund, Mr. Owen Harris</td>\n",
       "      <td>male</td>\n",
       "      <td>22.0</td>\n",
       "      <td>1</td>\n",
       "      <td>0</td>\n",
       "      <td>A/5 21171</td>\n",
       "      <td>7.2500</td>\n",
       "      <td>NaN</td>\n",
       "      <td>S</td>\n",
       "    </tr>\n",
       "    <tr>\n",
       "      <th>1</th>\n",
       "      <td>2</td>\n",
       "      <td>1</td>\n",
       "      <td>1</td>\n",
       "      <td>Cumings, Mrs. John Bradley (Florence Briggs Th...</td>\n",
       "      <td>female</td>\n",
       "      <td>38.0</td>\n",
       "      <td>1</td>\n",
       "      <td>0</td>\n",
       "      <td>PC 17599</td>\n",
       "      <td>71.2833</td>\n",
       "      <td>C85</td>\n",
       "      <td>C</td>\n",
       "    </tr>\n",
       "  </tbody>\n",
       "</table>\n",
       "</div>"
      ],
      "text/plain": [
       "   PassengerId  Survived  Pclass  \\\n",
       "0            1         0       3   \n",
       "1            2         1       1   \n",
       "\n",
       "                                                Name     Sex   Age  SibSp  \\\n",
       "0                            Braund, Mr. Owen Harris    male  22.0      1   \n",
       "1  Cumings, Mrs. John Bradley (Florence Briggs Th...  female  38.0      1   \n",
       "\n",
       "   Parch     Ticket     Fare Cabin Embarked  \n",
       "0      0  A/5 21171   7.2500   NaN        S  \n",
       "1      0   PC 17599  71.2833   C85        C  "
      ]
     },
     "metadata": {},
     "output_type": "display_data"
    }
   ],
   "source": [
    "display(df.iloc[:2])  # Filas en el rango [0,2)"
   ]
  },
  {
   "cell_type": "code",
   "execution_count": 14,
   "metadata": {},
   "outputs": [
    {
     "data": {
      "text/plain": [
       "'Braund, Mr. Owen Harris'"
      ]
     },
     "metadata": {},
     "output_type": "display_data"
    }
   ],
   "source": [
    "display(df.iloc[0,3]) # Celda (0,0)"
   ]
  },
  {
   "cell_type": "code",
   "execution_count": 15,
   "metadata": {},
   "outputs": [
    {
     "data": {
      "text/html": [
       "<div>\n",
       "<style scoped>\n",
       "    .dataframe tbody tr th:only-of-type {\n",
       "        vertical-align: middle;\n",
       "    }\n",
       "\n",
       "    .dataframe tbody tr th {\n",
       "        vertical-align: top;\n",
       "    }\n",
       "\n",
       "    .dataframe thead th {\n",
       "        text-align: right;\n",
       "    }\n",
       "</style>\n",
       "<table border=\"1\" class=\"dataframe\">\n",
       "  <thead>\n",
       "    <tr style=\"text-align: right;\">\n",
       "      <th></th>\n",
       "      <th>Name</th>\n",
       "      <th>Sex</th>\n",
       "    </tr>\n",
       "  </thead>\n",
       "  <tbody>\n",
       "    <tr>\n",
       "      <th>0</th>\n",
       "      <td>Braund, Mr. Owen Harris</td>\n",
       "      <td>male</td>\n",
       "    </tr>\n",
       "    <tr>\n",
       "      <th>10</th>\n",
       "      <td>Sandstrom, Miss. Marguerite Rut</td>\n",
       "      <td>female</td>\n",
       "    </tr>\n",
       "    <tr>\n",
       "      <th>12</th>\n",
       "      <td>Saundercock, Mr. William Henry</td>\n",
       "      <td>male</td>\n",
       "    </tr>\n",
       "  </tbody>\n",
       "</table>\n",
       "</div>"
      ],
      "text/plain": [
       "                               Name     Sex\n",
       "0           Braund, Mr. Owen Harris    male\n",
       "10  Sandstrom, Miss. Marguerite Rut  female\n",
       "12   Saundercock, Mr. William Henry    male"
      ]
     },
     "metadata": {},
     "output_type": "display_data"
    }
   ],
   "source": [
    "display(df.iloc[[0,10,12],3:5]) # Filas 0, 10 y 12, columnas 3:5"
   ]
  },
  {
   "cell_type": "code",
   "execution_count": 17,
   "metadata": {
    "scrolled": true
   },
   "outputs": [
    {
     "name": "stdout",
     "output_type": "stream",
     "text": [
      "<class 'pandas.core.indexing._LocIndexer'>\n"
     ]
    }
   ],
   "source": [
    "# .loc para seleccionar fragmentos de la tabla usando los índices, en el índice horizontal tenemos los nombres de las columnas,\n",
    "# en el vertical, usualmente tendremos posiciones, empezando por 0. Es más cómodo, usamos nombres y no posiciones.\n",
    "\n",
    "print(type(df.loc))\n"
   ]
  },
  {
   "cell_type": "code",
   "execution_count": 18,
   "metadata": {},
   "outputs": [
    {
     "data": {
      "text/plain": [
       "PassengerId                          1\n",
       "Survived                             0\n",
       "Pclass                               3\n",
       "Name           Braund, Mr. Owen Harris\n",
       "Sex                               male\n",
       "Age                                 22\n",
       "SibSp                                1\n",
       "Parch                                0\n",
       "Ticket                       A/5 21171\n",
       "Fare                              7.25\n",
       "Cabin                              NaN\n",
       "Embarked                             S\n",
       "Name: 0, dtype: object"
      ]
     },
     "metadata": {},
     "output_type": "display_data"
    }
   ],
   "source": [
    "display(df.loc[0])                # Fila con índice 0"
   ]
  },
  {
   "cell_type": "code",
   "execution_count": 19,
   "metadata": {},
   "outputs": [
    {
     "data": {
      "text/plain": [
       "7.25"
      ]
     },
     "metadata": {},
     "output_type": "display_data"
    }
   ],
   "source": [
    "display(df.loc[0,'Fare'])         # celda de la fila 0 y columna 'Fare'"
   ]
  },
  {
   "cell_type": "code",
   "execution_count": 20,
   "metadata": {},
   "outputs": [
    {
     "data": {
      "text/html": [
       "<div>\n",
       "<style scoped>\n",
       "    .dataframe tbody tr th:only-of-type {\n",
       "        vertical-align: middle;\n",
       "    }\n",
       "\n",
       "    .dataframe tbody tr th {\n",
       "        vertical-align: top;\n",
       "    }\n",
       "\n",
       "    .dataframe thead th {\n",
       "        text-align: right;\n",
       "    }\n",
       "</style>\n",
       "<table border=\"1\" class=\"dataframe\">\n",
       "  <thead>\n",
       "    <tr style=\"text-align: right;\">\n",
       "      <th></th>\n",
       "      <th>Sex</th>\n",
       "      <th>Age</th>\n",
       "      <th>SibSp</th>\n",
       "      <th>Parch</th>\n",
       "      <th>Ticket</th>\n",
       "      <th>Fare</th>\n",
       "    </tr>\n",
       "  </thead>\n",
       "  <tbody>\n",
       "    <tr>\n",
       "      <th>0</th>\n",
       "      <td>male</td>\n",
       "      <td>22.0</td>\n",
       "      <td>1</td>\n",
       "      <td>0</td>\n",
       "      <td>A/5 21171</td>\n",
       "      <td>7.2500</td>\n",
       "    </tr>\n",
       "    <tr>\n",
       "      <th>1</th>\n",
       "      <td>female</td>\n",
       "      <td>38.0</td>\n",
       "      <td>1</td>\n",
       "      <td>0</td>\n",
       "      <td>PC 17599</td>\n",
       "      <td>71.2833</td>\n",
       "    </tr>\n",
       "    <tr>\n",
       "      <th>2</th>\n",
       "      <td>female</td>\n",
       "      <td>26.0</td>\n",
       "      <td>0</td>\n",
       "      <td>0</td>\n",
       "      <td>STON/O2. 3101282</td>\n",
       "      <td>7.9250</td>\n",
       "    </tr>\n",
       "    <tr>\n",
       "      <th>3</th>\n",
       "      <td>female</td>\n",
       "      <td>35.0</td>\n",
       "      <td>1</td>\n",
       "      <td>0</td>\n",
       "      <td>113803</td>\n",
       "      <td>53.1000</td>\n",
       "    </tr>\n",
       "  </tbody>\n",
       "</table>\n",
       "</div>"
      ],
      "text/plain": [
       "      Sex   Age  SibSp  Parch            Ticket     Fare\n",
       "0    male  22.0      1      0         A/5 21171   7.2500\n",
       "1  female  38.0      1      0          PC 17599  71.2833\n",
       "2  female  26.0      0      0  STON/O2. 3101282   7.9250\n",
       "3  female  35.0      1      0            113803  53.1000"
      ]
     },
     "metadata": {},
     "output_type": "display_data"
    }
   ],
   "source": [
    "display(df.loc[:3, 'Sex':'Fare']) # Filas 0:3 (incluidas) en las columnas entre 'Sex':'Fare' (incluidas)"
   ]
  },
  {
   "cell_type": "code",
   "execution_count": 21,
   "metadata": {},
   "outputs": [
    {
     "data": {
      "text/html": [
       "<div>\n",
       "<style scoped>\n",
       "    .dataframe tbody tr th:only-of-type {\n",
       "        vertical-align: middle;\n",
       "    }\n",
       "\n",
       "    .dataframe tbody tr th {\n",
       "        vertical-align: top;\n",
       "    }\n",
       "\n",
       "    .dataframe thead th {\n",
       "        text-align: right;\n",
       "    }\n",
       "</style>\n",
       "<table border=\"1\" class=\"dataframe\">\n",
       "  <thead>\n",
       "    <tr style=\"text-align: right;\">\n",
       "      <th></th>\n",
       "      <th>Sex</th>\n",
       "      <th>Fare</th>\n",
       "      <th>Embarked</th>\n",
       "    </tr>\n",
       "  </thead>\n",
       "  <tbody>\n",
       "    <tr>\n",
       "      <th>0</th>\n",
       "      <td>male</td>\n",
       "      <td>7.2500</td>\n",
       "      <td>S</td>\n",
       "    </tr>\n",
       "    <tr>\n",
       "      <th>1</th>\n",
       "      <td>female</td>\n",
       "      <td>71.2833</td>\n",
       "      <td>C</td>\n",
       "    </tr>\n",
       "    <tr>\n",
       "      <th>2</th>\n",
       "      <td>female</td>\n",
       "      <td>7.9250</td>\n",
       "      <td>S</td>\n",
       "    </tr>\n",
       "    <tr>\n",
       "      <th>3</th>\n",
       "      <td>female</td>\n",
       "      <td>53.1000</td>\n",
       "      <td>S</td>\n",
       "    </tr>\n",
       "  </tbody>\n",
       "</table>\n",
       "</div>"
      ],
      "text/plain": [
       "      Sex     Fare Embarked\n",
       "0    male   7.2500        S\n",
       "1  female  71.2833        C\n",
       "2  female   7.9250        S\n",
       "3  female  53.1000        S"
      ]
     },
     "metadata": {},
     "output_type": "display_data"
    }
   ],
   "source": [
    "display(df.loc[:3, ['Sex','Fare','Embarked']]) # Filas 0:3 (incluidas), y las columnas 'Sex','Fare' y 'Embarked'"
   ]
  },
  {
   "cell_type": "code",
   "execution_count": 22,
   "metadata": {},
   "outputs": [
    {
     "data": {
      "text/html": [
       "<div>\n",
       "<style scoped>\n",
       "    .dataframe tbody tr th:only-of-type {\n",
       "        vertical-align: middle;\n",
       "    }\n",
       "\n",
       "    .dataframe tbody tr th {\n",
       "        vertical-align: top;\n",
       "    }\n",
       "\n",
       "    .dataframe thead th {\n",
       "        text-align: right;\n",
       "    }\n",
       "</style>\n",
       "<table border=\"1\" class=\"dataframe\">\n",
       "  <thead>\n",
       "    <tr style=\"text-align: right;\">\n",
       "      <th></th>\n",
       "      <th>PassengerId</th>\n",
       "      <th>Survived</th>\n",
       "      <th>Pclass</th>\n",
       "      <th>Name</th>\n",
       "      <th>Sex</th>\n",
       "      <th>Age</th>\n",
       "      <th>SibSp</th>\n",
       "      <th>Parch</th>\n",
       "      <th>Ticket</th>\n",
       "      <th>Fare</th>\n",
       "      <th>Cabin</th>\n",
       "      <th>Embarked</th>\n",
       "    </tr>\n",
       "  </thead>\n",
       "  <tbody>\n",
       "    <tr>\n",
       "      <th>96</th>\n",
       "      <td>97</td>\n",
       "      <td>0</td>\n",
       "      <td>1</td>\n",
       "      <td>Goldschmidt, Mr. George B</td>\n",
       "      <td>male</td>\n",
       "      <td>71.0</td>\n",
       "      <td>0</td>\n",
       "      <td>0</td>\n",
       "      <td>PC 17754</td>\n",
       "      <td>34.6542</td>\n",
       "      <td>A5</td>\n",
       "      <td>C</td>\n",
       "    </tr>\n",
       "    <tr>\n",
       "      <th>116</th>\n",
       "      <td>117</td>\n",
       "      <td>0</td>\n",
       "      <td>3</td>\n",
       "      <td>Connors, Mr. Patrick</td>\n",
       "      <td>male</td>\n",
       "      <td>70.5</td>\n",
       "      <td>0</td>\n",
       "      <td>0</td>\n",
       "      <td>370369</td>\n",
       "      <td>7.7500</td>\n",
       "      <td>NaN</td>\n",
       "      <td>Q</td>\n",
       "    </tr>\n",
       "    <tr>\n",
       "      <th>493</th>\n",
       "      <td>494</td>\n",
       "      <td>0</td>\n",
       "      <td>1</td>\n",
       "      <td>Artagaveytia, Mr. Ramon</td>\n",
       "      <td>male</td>\n",
       "      <td>71.0</td>\n",
       "      <td>0</td>\n",
       "      <td>0</td>\n",
       "      <td>PC 17609</td>\n",
       "      <td>49.5042</td>\n",
       "      <td>NaN</td>\n",
       "      <td>C</td>\n",
       "    </tr>\n",
       "    <tr>\n",
       "      <th>630</th>\n",
       "      <td>631</td>\n",
       "      <td>1</td>\n",
       "      <td>1</td>\n",
       "      <td>Barkworth, Mr. Algernon Henry Wilson</td>\n",
       "      <td>male</td>\n",
       "      <td>80.0</td>\n",
       "      <td>0</td>\n",
       "      <td>0</td>\n",
       "      <td>27042</td>\n",
       "      <td>30.0000</td>\n",
       "      <td>A23</td>\n",
       "      <td>S</td>\n",
       "    </tr>\n",
       "    <tr>\n",
       "      <th>851</th>\n",
       "      <td>852</td>\n",
       "      <td>0</td>\n",
       "      <td>3</td>\n",
       "      <td>Svensson, Mr. Johan</td>\n",
       "      <td>male</td>\n",
       "      <td>74.0</td>\n",
       "      <td>0</td>\n",
       "      <td>0</td>\n",
       "      <td>347060</td>\n",
       "      <td>7.7750</td>\n",
       "      <td>NaN</td>\n",
       "      <td>S</td>\n",
       "    </tr>\n",
       "  </tbody>\n",
       "</table>\n",
       "</div>"
      ],
      "text/plain": [
       "     PassengerId  Survived  Pclass                                  Name  \\\n",
       "96            97         0       1             Goldschmidt, Mr. George B   \n",
       "116          117         0       3                  Connors, Mr. Patrick   \n",
       "493          494         0       1               Artagaveytia, Mr. Ramon   \n",
       "630          631         1       1  Barkworth, Mr. Algernon Henry Wilson   \n",
       "851          852         0       3                   Svensson, Mr. Johan   \n",
       "\n",
       "      Sex   Age  SibSp  Parch    Ticket     Fare Cabin Embarked  \n",
       "96   male  71.0      0      0  PC 17754  34.6542    A5        C  \n",
       "116  male  70.5      0      0    370369   7.7500   NaN        Q  \n",
       "493  male  71.0      0      0  PC 17609  49.5042   NaN        C  \n",
       "630  male  80.0      0      0     27042  30.0000   A23        S  \n",
       "851  male  74.0      0      0    347060   7.7750   NaN        S  "
      ]
     },
     "metadata": {},
     "output_type": "display_data"
    }
   ],
   "source": [
    "display(df.loc[df['Age']> 70])    # Filas con 'Age' > 70"
   ]
  },
  {
   "cell_type": "code",
   "execution_count": 23,
   "metadata": {},
   "outputs": [
    {
     "data": {
      "text/html": [
       "<div>\n",
       "<style scoped>\n",
       "    .dataframe tbody tr th:only-of-type {\n",
       "        vertical-align: middle;\n",
       "    }\n",
       "\n",
       "    .dataframe tbody tr th {\n",
       "        vertical-align: top;\n",
       "    }\n",
       "\n",
       "    .dataframe thead th {\n",
       "        text-align: right;\n",
       "    }\n",
       "</style>\n",
       "<table border=\"1\" class=\"dataframe\">\n",
       "  <thead>\n",
       "    <tr style=\"text-align: right;\">\n",
       "      <th></th>\n",
       "      <th>Age</th>\n",
       "      <th>Sex</th>\n",
       "      <th>Survived</th>\n",
       "    </tr>\n",
       "  </thead>\n",
       "  <tbody>\n",
       "    <tr>\n",
       "      <th>96</th>\n",
       "      <td>71.0</td>\n",
       "      <td>male</td>\n",
       "      <td>0</td>\n",
       "    </tr>\n",
       "    <tr>\n",
       "      <th>116</th>\n",
       "      <td>70.5</td>\n",
       "      <td>male</td>\n",
       "      <td>0</td>\n",
       "    </tr>\n",
       "    <tr>\n",
       "      <th>493</th>\n",
       "      <td>71.0</td>\n",
       "      <td>male</td>\n",
       "      <td>0</td>\n",
       "    </tr>\n",
       "    <tr>\n",
       "      <th>630</th>\n",
       "      <td>80.0</td>\n",
       "      <td>male</td>\n",
       "      <td>1</td>\n",
       "    </tr>\n",
       "    <tr>\n",
       "      <th>851</th>\n",
       "      <td>74.0</td>\n",
       "      <td>male</td>\n",
       "      <td>0</td>\n",
       "    </tr>\n",
       "  </tbody>\n",
       "</table>\n",
       "</div>"
      ],
      "text/plain": [
       "      Age   Sex  Survived\n",
       "96   71.0  male         0\n",
       "116  70.5  male         0\n",
       "493  71.0  male         0\n",
       "630  80.0  male         1\n",
       "851  74.0  male         0"
      ]
     },
     "metadata": {},
     "output_type": "display_data"
    }
   ],
   "source": [
    "display(df.loc[df['Age']> 70, ['Age','Sex', 'Survived']])    # Filas con 'Age' > 70, mostrar la columna 'Sex' y Survived."
   ]
  },
  {
   "cell_type": "code",
   "execution_count": 24,
   "metadata": {},
   "outputs": [
    {
     "data": {
      "text/plain": [
       "PassengerId      int64\n",
       "Survived         int64\n",
       "Pclass           int64\n",
       "Name            object\n",
       "Sex             object\n",
       "Age            float64\n",
       "SibSp            int64\n",
       "Parch            int64\n",
       "Ticket          object\n",
       "Fare           float64\n",
       "Cabin           object\n",
       "Embarked        object\n",
       "dtype: object"
      ]
     },
     "execution_count": 24,
     "metadata": {},
     "output_type": "execute_result"
    }
   ],
   "source": [
    "# Tipos almacenados en cada columna\n",
    "df.dtypes"
   ]
  },
  {
   "cell_type": "code",
   "execution_count": 25,
   "metadata": {},
   "outputs": [
    {
     "name": "stdout",
     "output_type": "stream",
     "text": [
      "       PassengerId    Survived      Pclass         Age       SibSp  \\\n",
      "count   891.000000  891.000000  891.000000  714.000000  891.000000   \n",
      "mean    446.000000    0.383838    2.308642   29.699118    0.523008   \n",
      "std     257.353842    0.486592    0.836071   14.526497    1.102743   \n",
      "min       1.000000    0.000000    1.000000    0.420000    0.000000   \n",
      "25%     223.500000    0.000000    2.000000   20.125000    0.000000   \n",
      "50%     446.000000    0.000000    3.000000   28.000000    0.000000   \n",
      "75%     668.500000    1.000000    3.000000   38.000000    1.000000   \n",
      "max     891.000000    1.000000    3.000000   80.000000    8.000000   \n",
      "\n",
      "            Parch        Fare  \n",
      "count  891.000000  891.000000  \n",
      "mean     0.381594   32.204208  \n",
      "std      0.806057   49.693429  \n",
      "min      0.000000    0.000000  \n",
      "25%      0.000000    7.910400  \n",
      "50%      0.000000   14.454200  \n",
      "75%      0.000000   31.000000  \n",
      "max      6.000000  512.329200  \n"
     ]
    }
   ],
   "source": [
    "# Descripción de los valores de un DataFrame, podemos ver algunas medidas estadísticas como la media, la desviación típica,\n",
    "# valores mínimos y máximos e incluso cuartiles. Para cadenas de texto no tiene sentido hablar de medias artiméticas...\n",
    "# Unique nos indica el número de valores diferentes para una columna (Sex tiene dos valores p.e.), otro dato curioso\n",
    "# es que no hay nombres repetidos 891. También se incluyen las filas Top para el elemento más repetido, y freq que indica\n",
    "# el número de repeticiones.\n",
    "print(df.describe())"
   ]
  },
  {
   "cell_type": "markdown",
   "metadata": {},
   "source": [
    "https://upload.wikimedia.org/wikipedia/commons/thumb/8/8c/Standard_deviation_diagram.svg/450px-Standard_deviation_diagram.svg.png "
   ]
  },
  {
   "cell_type": "raw",
   "metadata": {},
   "source": [
    "Algunos datos de interés para la edad:\n",
    "    - La columna Age tiene 714 valores no vacíos, siendo 0.42 el valor mínimo y 80 el valor máximo.\n",
    "    - La edad media de los pasajeros es de 29.7 años, con una desviación típica de 14.52 (nos da idea de la dispersión).\n",
    "    - La mediana es de 28 años y el rango intercuartílico está entre 20.125 y 38 años."
   ]
  },
  {
   "cell_type": "code",
   "execution_count": 27,
   "metadata": {
    "scrolled": false
   },
   "outputs": [
    {
     "name": "stdout",
     "output_type": "stream",
     "text": [
      "        PassengerId    Survived      Pclass                     Name   Sex  \\\n",
      "count    891.000000  891.000000  891.000000                      891   891   \n",
      "unique          NaN         NaN         NaN                      891     2   \n",
      "top             NaN         NaN         NaN  Connaghton, Mr. Michael  male   \n",
      "freq            NaN         NaN         NaN                        1   577   \n",
      "mean     446.000000    0.383838    2.308642                      NaN   NaN   \n",
      "std      257.353842    0.486592    0.836071                      NaN   NaN   \n",
      "min        1.000000    0.000000    1.000000                      NaN   NaN   \n",
      "25%      223.500000    0.000000    2.000000                      NaN   NaN   \n",
      "50%      446.000000    0.000000    3.000000                      NaN   NaN   \n",
      "75%      668.500000    1.000000    3.000000                      NaN   NaN   \n",
      "max      891.000000    1.000000    3.000000                      NaN   NaN   \n",
      "\n",
      "               Age       SibSp       Parch Ticket        Fare Cabin Embarked  \n",
      "count   714.000000  891.000000  891.000000    891  891.000000   204      889  \n",
      "unique         NaN         NaN         NaN    681         NaN   147        3  \n",
      "top            NaN         NaN         NaN   1601         NaN    G6        S  \n",
      "freq           NaN         NaN         NaN      7         NaN     4      644  \n",
      "mean     29.699118    0.523008    0.381594    NaN   32.204208   NaN      NaN  \n",
      "std      14.526497    1.102743    0.806057    NaN   49.693429   NaN      NaN  \n",
      "min       0.420000    0.000000    0.000000    NaN    0.000000   NaN      NaN  \n",
      "25%      20.125000    0.000000    0.000000    NaN    7.910400   NaN      NaN  \n",
      "50%      28.000000    0.000000    0.000000    NaN   14.454200   NaN      NaN  \n",
      "75%      38.000000    1.000000    0.000000    NaN   31.000000   NaN      NaN  \n",
      "max      80.000000    8.000000    6.000000    NaN  512.329200   NaN      NaN  \n"
     ]
    }
   ],
   "source": [
    "# Si queremos que describe incluya todas las columnas, incluidas las no numéricas, le pasamos el parámetro include = 'all'\n",
    "# Es interesante observar en este caso que aparece la variable unique, nos indica el número de pasajeros, sexo = 2, Embarked = 3\n",
    "print(df.describe(include='all'))"
   ]
  },
  {
   "cell_type": "code",
   "execution_count": 28,
   "metadata": {},
   "outputs": [
    {
     "name": "stdout",
     "output_type": "stream",
     "text": [
      "Missing values [PassengerId]: 0\n",
      "Missing values [Survived]: 0\n",
      "Missing values [Pclass]: 0\n",
      "Missing values [Name]: 0\n",
      "Missing values [Sex]: 0\n",
      "Missing values [Age]: 177\n",
      "Missing values [SibSp]: 0\n",
      "Missing values [Parch]: 0\n",
      "Missing values [Ticket]: 0\n",
      "Missing values [Fare]: 0\n",
      "Missing values [Cabin]: 687\n",
      "Missing values [Embarked]: 2\n",
      "\n",
      "Unique values [PassengerId]: 891\n",
      "Unique values [Survived]: 2\n",
      "Unique values [Pclass]: 3\n",
      "Unique values [Name]: 891\n",
      "Unique values [Sex]: 2\n",
      "Unique values [Age]: 89\n",
      "Unique values [SibSp]: 7\n",
      "Unique values [Parch]: 7\n",
      "Unique values [Ticket]: 681\n",
      "Unique values [Fare]: 248\n",
      "Unique values [Cabin]: 148\n",
      "Unique values [Embarked]: 4\n"
     ]
    }
   ],
   "source": [
    "# Código alternativo para calcular valores nulos y únicos\n",
    "\n",
    "# Valores nulos\n",
    "for c in df.columns:\n",
    "    print(\"Missing values [{0}]:\".format(c), df[c].isna().sum())\n",
    "print()\n",
    "\n",
    "# Valores únicos    \n",
    "for c in df.columns:\n",
    "    print(\"Unique values [{0}]:\".format(c), df[c].unique().size)"
   ]
  },
  {
   "cell_type": "markdown",
   "metadata": {},
   "source": [
    "## Transformar DataFrames"
   ]
  },
  {
   "cell_type": "code",
   "execution_count": 9,
   "metadata": {},
   "outputs": [
    {
     "data": {
      "text/html": [
       "<div>\n",
       "<style scoped>\n",
       "    .dataframe tbody tr th:only-of-type {\n",
       "        vertical-align: middle;\n",
       "    }\n",
       "\n",
       "    .dataframe tbody tr th {\n",
       "        vertical-align: top;\n",
       "    }\n",
       "\n",
       "    .dataframe thead th {\n",
       "        text-align: right;\n",
       "    }\n",
       "</style>\n",
       "<table border=\"1\" class=\"dataframe\">\n",
       "  <thead>\n",
       "    <tr style=\"text-align: right;\">\n",
       "      <th></th>\n",
       "      <th>Survived</th>\n",
       "      <th>Pclass</th>\n",
       "      <th>Sex</th>\n",
       "      <th>Age</th>\n",
       "      <th>SibSp</th>\n",
       "      <th>Parch</th>\n",
       "      <th>Fare</th>\n",
       "      <th>Embarked</th>\n",
       "    </tr>\n",
       "  </thead>\n",
       "  <tbody>\n",
       "    <tr>\n",
       "      <th>0</th>\n",
       "      <td>0</td>\n",
       "      <td>3</td>\n",
       "      <td>1</td>\n",
       "      <td>22.0</td>\n",
       "      <td>1</td>\n",
       "      <td>0</td>\n",
       "      <td>7.2500</td>\n",
       "      <td>2</td>\n",
       "    </tr>\n",
       "    <tr>\n",
       "      <th>1</th>\n",
       "      <td>1</td>\n",
       "      <td>1</td>\n",
       "      <td>0</td>\n",
       "      <td>38.0</td>\n",
       "      <td>1</td>\n",
       "      <td>0</td>\n",
       "      <td>71.2833</td>\n",
       "      <td>0</td>\n",
       "    </tr>\n",
       "    <tr>\n",
       "      <th>2</th>\n",
       "      <td>1</td>\n",
       "      <td>3</td>\n",
       "      <td>0</td>\n",
       "      <td>26.0</td>\n",
       "      <td>0</td>\n",
       "      <td>0</td>\n",
       "      <td>7.9250</td>\n",
       "      <td>2</td>\n",
       "    </tr>\n",
       "    <tr>\n",
       "      <th>3</th>\n",
       "      <td>1</td>\n",
       "      <td>1</td>\n",
       "      <td>0</td>\n",
       "      <td>35.0</td>\n",
       "      <td>1</td>\n",
       "      <td>0</td>\n",
       "      <td>53.1000</td>\n",
       "      <td>2</td>\n",
       "    </tr>\n",
       "    <tr>\n",
       "      <th>4</th>\n",
       "      <td>0</td>\n",
       "      <td>3</td>\n",
       "      <td>1</td>\n",
       "      <td>35.0</td>\n",
       "      <td>0</td>\n",
       "      <td>0</td>\n",
       "      <td>8.0500</td>\n",
       "      <td>2</td>\n",
       "    </tr>\n",
       "    <tr>\n",
       "      <th>...</th>\n",
       "      <td>...</td>\n",
       "      <td>...</td>\n",
       "      <td>...</td>\n",
       "      <td>...</td>\n",
       "      <td>...</td>\n",
       "      <td>...</td>\n",
       "      <td>...</td>\n",
       "      <td>...</td>\n",
       "    </tr>\n",
       "    <tr>\n",
       "      <th>885</th>\n",
       "      <td>0</td>\n",
       "      <td>3</td>\n",
       "      <td>0</td>\n",
       "      <td>39.0</td>\n",
       "      <td>0</td>\n",
       "      <td>5</td>\n",
       "      <td>29.1250</td>\n",
       "      <td>1</td>\n",
       "    </tr>\n",
       "    <tr>\n",
       "      <th>886</th>\n",
       "      <td>0</td>\n",
       "      <td>2</td>\n",
       "      <td>1</td>\n",
       "      <td>27.0</td>\n",
       "      <td>0</td>\n",
       "      <td>0</td>\n",
       "      <td>13.0000</td>\n",
       "      <td>2</td>\n",
       "    </tr>\n",
       "    <tr>\n",
       "      <th>887</th>\n",
       "      <td>1</td>\n",
       "      <td>1</td>\n",
       "      <td>0</td>\n",
       "      <td>19.0</td>\n",
       "      <td>0</td>\n",
       "      <td>0</td>\n",
       "      <td>30.0000</td>\n",
       "      <td>2</td>\n",
       "    </tr>\n",
       "    <tr>\n",
       "      <th>889</th>\n",
       "      <td>1</td>\n",
       "      <td>1</td>\n",
       "      <td>1</td>\n",
       "      <td>26.0</td>\n",
       "      <td>0</td>\n",
       "      <td>0</td>\n",
       "      <td>30.0000</td>\n",
       "      <td>0</td>\n",
       "    </tr>\n",
       "    <tr>\n",
       "      <th>890</th>\n",
       "      <td>0</td>\n",
       "      <td>3</td>\n",
       "      <td>1</td>\n",
       "      <td>32.0</td>\n",
       "      <td>0</td>\n",
       "      <td>0</td>\n",
       "      <td>7.7500</td>\n",
       "      <td>1</td>\n",
       "    </tr>\n",
       "  </tbody>\n",
       "</table>\n",
       "<p>712 rows × 8 columns</p>\n",
       "</div>"
      ],
      "text/plain": [
       "     Survived  Pclass  Sex   Age  SibSp  Parch     Fare  Embarked\n",
       "0           0       3    1  22.0      1      0   7.2500         2\n",
       "1           1       1    0  38.0      1      0  71.2833         0\n",
       "2           1       3    0  26.0      0      0   7.9250         2\n",
       "3           1       1    0  35.0      1      0  53.1000         2\n",
       "4           0       3    1  35.0      0      0   8.0500         2\n",
       "..        ...     ...  ...   ...    ...    ...      ...       ...\n",
       "885         0       3    0  39.0      0      5  29.1250         1\n",
       "886         0       2    1  27.0      0      0  13.0000         2\n",
       "887         1       1    0  19.0      0      0  30.0000         2\n",
       "889         1       1    1  26.0      0      0  30.0000         0\n",
       "890         0       3    1  32.0      0      0   7.7500         1\n",
       "\n",
       "[712 rows x 8 columns]"
      ]
     },
     "execution_count": 9,
     "metadata": {},
     "output_type": "execute_result"
    }
   ],
   "source": [
    "# Carga el fichero \n",
    "df = pd.read_csv('data/titanic.csv')\n",
    "\n",
    "# Elimina columnas no relevantes y filas con valores algún valor vacío, invocamos al método drop y dropna\n",
    "df = df.drop(columns=['PassengerId', 'Name', 'Ticket','Cabin'])\n",
    "df = df.dropna()\n",
    "# Recordad que podemos con el parámetro thresh se puede indicar el mínimo de valores vacíos. En este caso elimino \n",
    "# todas las filas que tengan valores vacíos.\n",
    "\n",
    "# Queremos transformar las columnas que almacenan cadenas de texto para que representen esa información como números naturales.\n",
    "# Esto funciona de la siguiente forma: \n",
    "# Para calcular los valores numéricos lo primero que hacemos es seleccionar la columna, la reinterpretamos \n",
    "# como una categoría astype('category') y finalmente nos quedamos con la secuencia de su representación numérica (cat.codes).\n",
    "# Al reinterpretar la columna como una categoría, se recorren los valores detectando los valores únicos y dándoles \n",
    "# una representación numérica única.\n",
    "\n",
    "df['Sex'] = df['Sex'].astype('category').cat.codes\n",
    "df['Embarked'] = df['Embarked'].astype('category').cat.codes\n",
    "df"
   ]
  },
  {
   "cell_type": "markdown",
   "metadata": {},
   "source": [
    "De esta forma la columna Sex toma valores 0 y 1; la columna Embarqued toma valores 0, 1, 2."
   ]
  },
  {
   "cell_type": "markdown",
   "metadata": {},
   "source": [
    "## Salvar a ficheros"
   ]
  },
  {
   "cell_type": "code",
   "execution_count": 10,
   "metadata": {},
   "outputs": [],
   "source": [
    "# A formato CSV, con index = False indicamos que no incluya una columna inicial con el índice de cada fila.\n",
    "# Una vez realizadas todas las transformaciones, lo que hacemos es salvar a disco para poder reutilizarlo cuando queramos.\n",
    "df.to_csv('data/titanic_ml.csv', index=False)\n",
    "# Con index = False, no crea una columna inicial por defecto de índices.\n",
    "\n",
    "# A formato Excel (XLS y XLSX)\n",
    "# La hoja se llamará 'Sheet1'\n",
    "df.to_excel('data/titanic_ml.xls', index=False) \n",
    "df.to_excel('data/titanic_ml.xlsx', index=False)"
   ]
  },
  {
   "cell_type": "code",
   "execution_count": 11,
   "metadata": {},
   "outputs": [],
   "source": [
    "# Insertar varias hojas en un fichero Excel\n",
    "writer = pd.ExcelWriter('data/titanic_2.xlsx')\n",
    "df.to_excel(writer, sheet_name='Hoja 1', index=False)\n",
    "df.to_excel(writer, sheet_name='Hoja 2', index=False)\n",
    "writer.close()"
   ]
  },
  {
   "cell_type": "markdown",
   "metadata": {},
   "source": [
    "# Aprendizaje automático con Scikit-learn"
   ]
  },
  {
   "cell_type": "code",
   "execution_count": 12,
   "metadata": {},
   "outputs": [
    {
     "data": {
      "text/plain": [
       "'0.23.1'"
      ]
     },
     "execution_count": 12,
     "metadata": {},
     "output_type": "execute_result"
    }
   ],
   "source": [
    "# Versión de scikit-learn\n",
    "import sklearn\n",
    "sklearn.__version__"
   ]
  },
  {
   "cell_type": "markdown",
   "metadata": {},
   "source": [
    "El “Machine Learning” o aprendizaje automático es una rama de la informática que utiliza técnicas matemáticas y estadísticas para desarrollar sistemas que aprenden a partir de conjuntos de datos. El aprendizaje consiste en la detección y extracción de patrones que se observan del conjunto de datos objeto de aprendizaje.\n",
    "\n",
    "Ejemplo. Detectar que es altamente probable sobrevivir al hundimiento del Titanic si se viajó en primera clase, descubrir que la mayoría de los clientes que compran leche, compran también galletas en el mismo día,…\n",
    "\n",
    "Los datos por sí solos no nos dicen nada, pero al aprender sobre ellos extraemos conocimiento que nos proporciona un entendimiento más preciso de la realidad y nos permite tomar mejores decisiones.\n",
    "\n",
    "Atributos nominales, los valores no tienen ninguna noción de orden o lejanía entre ellos, p.e. el deporte favorito de una persona.\n",
    "\n",
    "Atributos ordinales, los valores tienen un orden y noción de lejanía, p.e. en el caso del Titanic, el atributo Pclass indica la clase de billete adquirida.\n",
    "\n",
    "Atributos continuos, almacenan valores numéricos arbitrarios en un rango dado, p.e. la edad (Age), el precio del billete (Fare) o el número de hermanos y cónyuges (SibSp).\n",
    "\n",
    "Atributo clase, dentro del conjunto de atributos nos ayuda a catalogar la instancia, determina el tipo de aprendizaje automático que queremos realizar."
   ]
  },
  {
   "cell_type": "markdown",
   "metadata": {},
   "source": [
    "Los tipos de aprendizaje, se clasifican en:\n",
    "\n",
    "A) Aprendizaje supervisado. Se realiza sobre conjuntos de datos que tienen un atributo clase, se persigue predecir la clase en función de los valores del resto de atributos. Dependiendo del tipo que tenga la clase se pueden distinguir dos familias:\n",
    "\n",
    "- Clasificación, cuando la clase es un atributo categórico, queremos clasificar una instancia en una de las categorías diferentes a las que puede optar. Un ejemplo sería predecir si un pasajero del Titanic sobrevive o no dependiendo del valor del resto de atributos, en este caso la clase sería el atributo Survived.\n",
    "\n",
    "- Regresión, cuando la clase es un atributo continuo, queremos predecir un valor continuo a partir del resto de atributos. Un ejemplo sería tratar de predecir el precio del billete pagado por cada pasajero del Titanic, donde la clase sería el atributo Fare. \n",
    "\n",
    "B) Aprendizaje no supervisado. Este tipo de aprendizaje se da cuando no disponemos de ningún atributo clase que guíe nuestro aprendizaje, queremos encontrar patrones que aparezcan en nuestro conjunto de datos, un ejemplo podría ser el análisis de grupos que persigue dividir las instancias en conjuntos de elementos similares. Otro ejemplo es poder asociar eventos que ocurren a la vez, por ejemplo el carrito de la compra (cross sell)."
   ]
  },
  {
   "cell_type": "markdown",
   "metadata": {},
   "source": [
    "Centrándonos en el aprendizaje supervisado, a la hora de aplicar aprendizaje automático para obtener un modelo partimos de un conjunto de datos inicial, lo usual es dividir este conjunto en dos fragmentos separados: el conjunto de entrenamiento y el conjunto de test.\n",
    "\n",
    "El conjunto de entrenamiento nos servirá para entrenar nuestro algoritmo y obtener el modelo, mientras que el conjunto de test nos servirá para medir la calidad predictiva del modelo generado.\n",
    "\n",
    "Es importante que el conjunto de entrenamiento y el de test no compartan instancias, lo que queremos es medir lo bien que el conocimiento obtenido durante el entrenamiento se aplica a instancias nuevas no observadas anteriormente.\n",
    "\n",
    "Se suele realizar un muestreo aleatorio 70-80% de instancias para el entrenamiento y el resto de instancias para la evaluación de la calidad (test)."
   ]
  },
  {
   "cell_type": "markdown",
   "metadata": {},
   "source": [
    "## Preprocesado"
   ]
  },
  {
   "cell_type": "markdown",
   "metadata": {},
   "source": [
    "En algunas ocasiones no necesitaremos utilizar todas las columnas para realizar el aprendizaje automático, por ello, el primer paso consiste en realizar la selección de los atributos que más nos interese. Por ejemplo, el fichero Titanic contiene 11 atributos más la clase, pero no todos parecen demasiado útiles, el nombre de cada persona podríamos omitirlo, acaso llamarse Eufemio puede aumentar la probabilidad de sobrevivir a un naufragio?\n",
    "\n",
    "En otras ocasiones nos podemos encontrar con atributos que no parecen muy relevantes, pero de los que quizá se pueda extraer información interesante. El camarote donde viajaba un pasajero es una cadena de texto con un identificador alfanumérico, podemos extraer esa información y analizar en la cubierta en que estaba el camarote, distancia hasta el bote de emergencia, personas alojadas en el camarote. \n",
    "\n",
    "Otro paso importante es decidir qué hacer con los valores vacíos, una opción es asignar un valor concreto a estos valores vacíos, usando el valor promedio del atributo, el valor máximo o la moda. Esta transformación se conoce como imputer.\n"
   ]
  },
  {
   "cell_type": "code",
   "execution_count": 14,
   "metadata": {},
   "outputs": [],
   "source": [
    "# Función para partir un DataFrame en train+test y separar también la columna clase\n",
    "from sklearn.model_selection import train_test_split\n",
    "\n",
    "# Utilizamos el método train_test_split para dividir el conjunto original\n",
    "# Cada uno de estos conjuntos será un Dataframe de pandas.\n",
    "# Luego procedemos a separarlos train_y, test_y serán objetos Series\n",
    "# train_x, text_x serán objetos Dataframe\n",
    "# split_label acepta como parámetros el dataframe, una proporción que formará parte del conjunto test y el nombre de la clase\n",
    "# nos devuelve 4 conjunto de datos.\n",
    "\n",
    "def split_label(df, test_size, label):\n",
    "# Utilizando el método train_test_split, dividimos el conjunto df en train y test, donde test tendrá una proporción test_size\n",
    "# sobre el conjunto de datos original.\n",
    "\n",
    "    train, test = train_test_split(df, test_size=test_size)\n",
    "\n",
    "# Como df.columns nos devuelve un índice de Pandas con todas las columnas, eliminamos la columna label.\n",
    "    features = df.columns.drop(label)\n",
    "\n",
    "# Nos quedamos con train y test, pero a su vez dividmos en X para los atributos e Y para la clase.\n",
    "\n",
    "    train_X = train[features]\n",
    "    train_y = train[label]\n",
    "    test_X = test[features]\n",
    "    test_y = test[label]\n",
    "    \n",
    "    return train_X, train_y, test_X, test_y   "
   ]
  },
  {
   "cell_type": "code",
   "execution_count": 15,
   "metadata": {},
   "outputs": [],
   "source": [
    "# División en train (80%) y test (20%) para clasificación, con clase 'Survived'\n",
    "titanic = pd.read_csv('data/titanic_ml.csv')\n",
    "train_X, train_y, test_X, test_y = split_label(titanic, 0.2, 'Survived')\n",
    "\n",
    "# train_X y test_X son DataFrames\n",
    "# train_y y test_y son Series"
   ]
  },
  {
   "cell_type": "code",
   "execution_count": 18,
   "metadata": {},
   "outputs": [
    {
     "name": "stdout",
     "output_type": "stream",
     "text": [
      "<class 'numpy.ndarray'>\n",
      "(569, 9)\n",
      "float64\n"
     ]
    }
   ],
   "source": [
    "# One hot encoding de la columna 'Embarked'\n",
    "# Realizamos dos pasos de preprocesado, one hot encoding\n",
    "# En nuestro caso queremos codificar el atributo Embarked, indicamos el índice de dicho atributo.\n",
    "# Por ejemplo Embarqued = Q, S, C, creamos tres nuevos atributos, de forma que si Embarqued = Q, \n",
    "# Embarqued_Q = 1, Embarqued_S = 0, Embarqued_C = 0.\n",
    "# Con esto conseguimos que no haya diferencias para un algortimo de aprendizaje entre los embarques.\n",
    "# Y utilizar la información de embarque con otros análisis con datos complementarios.\n",
    "\n",
    "from sklearn.compose import ColumnTransformer\n",
    "\n",
    "# get_loc nos sirve para obtener el índice de la columna Embarked de nuestro DataFrame.\n",
    "\n",
    "index_Embarked = train_X.columns.get_loc('Embarked')\n",
    "\n",
    "# Transformamos train_X con el método fit_transform detectando los distintos valores de la columna\n",
    "# generando el conjunto de datos train_X_1\n",
    "\n",
    "# Con sparse = False indicamos que el objeto de salida sea un ndarray en lugar de matrices.\n",
    "# OneHotEncoder se usa para versiones de scikit menores a la 0.22\n",
    "#ohe = OneHotEncoder(categories_attributes=[index_Embarked], sparse=False)\n",
    "#train_X_1 = ohe.fit_transform(train_X)\n",
    "\n",
    "ct = ColumnTransformer(\n",
    "    [('one_hot_encoder', OneHotEncoder(), [index_Embarked])],    # The column numbers to be transformed (here is [0] but can be [0, 1, 3])\n",
    "    remainder='passthrough'                         # Leave the rest of the columns untouched\n",
    ")\n",
    "\n",
    "train_X_1 = np.array(ct.fit_transform(train_X), dtype=np.float)\n",
    "\n",
    "# train_X_1 es un objeto ndarray de tamaño (569, 9) y tipo float64\n",
    "print(type(train_X_1))\n",
    "print(train_X_1.shape)\n",
    "print(train_X_1.dtype)"
   ]
  },
  {
   "cell_type": "code",
   "execution_count": 19,
   "metadata": {},
   "outputs": [
    {
     "name": "stdout",
     "output_type": "stream",
     "text": [
      "[ 1.      0.      0.      3.      0.     14.      1.      0.     11.2417]\n",
      "[ 0.      0.      1.      3.      0.      2.      0.      1.     12.2875]\n",
      "[ 0.  0.  1.  1.  1. 40.  0.  0.  0.]\n"
     ]
    }
   ],
   "source": [
    "# Muestra las 3 primeras entradas de train_X_1\n",
    "for i in range(3): \n",
    "    print(train_X_1[i])"
   ]
  },
  {
   "cell_type": "code",
   "execution_count": 20,
   "metadata": {},
   "outputs": [
    {
     "name": "stdout",
     "output_type": "stream",
     "text": [
      "<class 'numpy.ndarray'>\n",
      "(569, 9)\n",
      "float64\n",
      "[1.         0.         0.         1.         0.         0.17064589\n",
      " 0.2        0.         0.02194234]\n",
      "[0.         0.         1.         1.         0.         0.01985423\n",
      " 0.         0.16666667 0.0239836 ]\n",
      "[0.         0.         1.         0.         1.         0.49736115\n",
      " 0.         0.         0.        ]\n"
     ]
    }
   ],
   "source": [
    "# En esta segunda fase de preprocesado, realizamos un escalado al rango [0,1] de todos los atributos\n",
    "from sklearn.preprocessing import MinMaxScaler\n",
    "\n",
    "min_max_scaler = MinMaxScaler()\n",
    "train_X_2 = min_max_scaler.fit_transform(train_X_1)\n",
    "\n",
    "print(type(train_X_2))\n",
    "print(train_X_2.shape)\n",
    "print(train_X_2.dtype)\n",
    "\n",
    "# Muestra las 3 primeras entradas de train_X_2\n",
    "for i in range(3): \n",
    "    print(train_X_2[i])"
   ]
  },
  {
   "cell_type": "markdown",
   "metadata": {},
   "source": [
    "Por ejemplo, para un dataset, podemos analizar el valor mínimo y máximo observable con valores entre 30 y -10. Podemos normalizar cualquier valor, p.e. 18.8 como sigue:\n",
    "\n",
    "- y = (x – min) / (max – min);\n",
    "- y = (18.8 – (-10)) / (30 – (-10));\n",
    "- y = 28.8 / 40;\n",
    "- y = 0.72"
   ]
  },
  {
   "cell_type": "markdown",
   "metadata": {},
   "source": [
    "## Clasificación"
   ]
  },
  {
   "cell_type": "markdown",
   "metadata": {},
   "source": [
    "https://es.wikipedia.org/wiki/M%C3%A1quinas_de_vectores_de_soporte"
   ]
  },
  {
   "cell_type": "code",
   "execution_count": 22,
   "metadata": {},
   "outputs": [
    {
     "name": "stdout",
     "output_type": "stream",
     "text": [
      "(143, 7)\n",
      "(143, 9)\n",
      "Precisión sobre test: 0.8181818181818182\n"
     ]
    }
   ],
   "source": [
    "from sklearn.svm import SVC\n",
    "\n",
    "# Lo primero que vamos a utilizar es crear un objeto clasificador y entrenarlo.\n",
    "# Entrenamiento basado en Support Vector Machines, a partir de la ejecución de clf.fit el objeto clf estará entrenado\n",
    "# y nos servirá para clasificar nuevas instancias; train_y representa la columna Survived, train_X_2 lo hemos normalizado \n",
    "# y aplicamos clf.fit sobre ambos conjuntos, cuántos sobrevivieron dependiendo de los atributos train_X_2??\n",
    "\n",
    "clf = SVC()\n",
    "clf.fit(train_X_2, train_y)\n",
    "\n",
    "# Transformación del conjunto de test (one hot encoding y escalado) al número de instancias 9 \n",
    "# El conjunto de instancias test_X es transformado con ohe, y después con min_max_scaler, generando 9 atributos test_X_2\n",
    "print(test_X.shape)\n",
    "\n",
    "test_X_2 = min_max_scaler.transform(ct.transform(test_X))\n",
    "print(test_X_2.shape)\n",
    "\n",
    "# Evaluación del modelo mediante precisión\n",
    "print(\"Precisión sobre test:\", clf.score(test_X_2, test_y)) \n",
    "\n",
    "# Uso del modelo, clf.predict(test_X_2) nos da las predicciones sobre el modelo, test_y los valores reales (si sobrevivió o no)\n",
    "#clf.predict(test_X_2)\n",
    "#clf.score(test_X_2, test_y)\n",
    "\n",
    "# Esta función nos dará una tasa de aciertos de casi el 80% (ver resultado) en nuestro conjunto de 143 instancias de test."
   ]
  },
  {
   "cell_type": "code",
   "execution_count": 23,
   "metadata": {},
   "outputs": [
    {
     "name": "stdout",
     "output_type": "stream",
     "text": [
      "Precisión sobre test: 0.8321678321678322\n"
     ]
    }
   ],
   "source": [
    "# Clasificación usando kNN, k-vecinos más cercanos.\n",
    "from sklearn.neighbors import KNeighborsClassifier\n",
    "\n",
    "clf = KNeighborsClassifier()\n",
    "clf.fit(train_X_2, train_y)\n",
    "\n",
    "# Evaluación del modelo mediante precisión\n",
    "print(\"Precisión sobre test:\", clf.score(test_X_2, test_y)) "
   ]
  },
  {
   "cell_type": "markdown",
   "metadata": {},
   "source": [
    "## Regresión"
   ]
  },
  {
   "cell_type": "markdown",
   "metadata": {},
   "source": [
    "En este caso debemos seleccionar un atributo continuo como clase, podría ser Fare (el importe del billete)... Vamos a tratar de predecir en este caso la tarifa pagada en función del resto de atributos."
   ]
  },
  {
   "cell_type": "code",
   "execution_count": null,
   "metadata": {},
   "outputs": [],
   "source": [
    "# Regresión lineal\n",
    "from sklearn.linear_model import LinearRegression\n",
    "from sklearn.metrics import mean_squared_error, mean_absolute_error\n",
    "\n",
    "# separación train-test con clase 'Fare'\n",
    "titanic = pd.read_csv('../../data/Cap 5/titanic_ml.csv')\n",
    "train_X, train_y, test_X, test_y = split_label(titanic, 0.2, 'Fare')\n",
    "\n",
    "# one hot encoding\n",
    "index_Embarked = train_X.columns.get_loc('Embarked')\n",
    "# Con sparse = False indicamos que el objeto de salida sea un ndarray en lugar de matrices.\n",
    "ohe = OneHotEncoder(categorical_features=[index_Embarked], sparse=False)\n",
    "train_X_1 = ohe.fit_transform(train_X)\n",
    "\n",
    "# Escalado de atributos al rango [0,1]\n",
    "min_max_scaler = MinMaxScaler()\n",
    "train_X_2 = min_max_scaler.fit_transform(train_X_1)\n",
    "\n",
    "# Entrenamiento\n",
    "# Utilizaremos la regresión lineal sobre el conjunto de datos de entrenamiento.\n",
    "# Y entrenaremos al conjunto de datos con el método fit y así comprobar la calidad del modelo generado.\n",
    "reg = LinearRegression()\n",
    "reg.fit(train_X_2, train_y)\n",
    "\n",
    "# Transformación del conjunto de test (one hot encoding y escalado)\n",
    "test_X_2 = min_max_scaler.transform(ohe.transform(test_X))\n",
    "\n",
    "# Evaluación del modelo mediante métrica R^2 y MSE\n",
    "# Utilizamos el error cuadrático medio o el error absoluto medio.\n",
    "print(\"R^2:\", reg.score(test_X_2, test_y)) \n",
    "\n",
    "# Uso y evaluación del modelo con MSE\n",
    "pred = reg.predict(test_X_2)\n",
    "print(\"MSE:\", mean_squared_error(test_y, pred))\n",
    "print(\"MAE:\", mean_absolute_error(test_y, pred))\n",
    "\n",
    "# Según el error absoluto medio la regresión lineal obtiene resultados que se alejan unas 20 libras del precio real.\n",
    "# Considerando que los precios de los billetes están entre 0 y 513 libras, parece un modelo suficientemente preciso."
   ]
  },
  {
   "cell_type": "code",
   "execution_count": null,
   "metadata": {},
   "outputs": [],
   "source": [
    "# Regresión usando kNN\n",
    "from sklearn.neighbors import KNeighborsRegressor\n",
    "\n",
    "reg = LinearRegression()\n",
    "reg.fit(train_X_2, train_y)\n",
    "\n",
    "# Evaluación del modelo mediante métrica R^2\n",
    "print(\"R^2:\", reg.score(test_X_2, test_y)) \n",
    "\n",
    "# Uso y evaluación del modelo con MSE y MAE\n",
    "pred = reg.predict(test_X_2)\n",
    "print(\"MSE:\", mean_squared_error(test_y, pred))\n",
    "print(\"MAE:\", mean_absolute_error(test_y, pred))"
   ]
  },
  {
   "cell_type": "markdown",
   "metadata": {},
   "source": [
    "## Clustering"
   ]
  },
  {
   "cell_type": "code",
   "execution_count": null,
   "metadata": {},
   "outputs": [],
   "source": [
    "from sklearn.cluster import KMeans\n",
    "from sklearn.metrics import silhouette_score, calinski_harabaz_score\n",
    "\n",
    "titanic = pd.read_csv('../../data/Cap 5/titanic_ml.csv')\n",
    "\n",
    "# one hot encoding\n",
    "index_Embarked = titanic.columns.get_loc('Embarked')\n",
    "ohe = OneHotEncoder(categorical_features=[index_Embarked], sparse=False)\n",
    "titanic_1 = ohe.fit_transform(titanic)\n",
    "\n",
    "# Escalado de atributos al rango [0,1]\n",
    "min_max_scaler = MinMaxScaler()\n",
    "titanic_2 = min_max_scaler.fit_transform(titanic_1)\n",
    "\n",
    "# Clustering\n",
    "clu = KMeans(n_clusters=3)\n",
    "clu.fit(titanic_2)\n",
    "print(\"Centros de los clústeres:\\n\", clu.cluster_centers_)\n",
    "\n",
    "# Evaluación de los clústeres\n",
    "print('silhouette_score:', silhouette_score(titanic_2, clu.labels_))\n",
    "print('calinski_harabaz:', calinski_harabaz_score(titanic_2, clu.labels_))\n",
    "\n",
    "# Comprobar distancia a cada centroide para las instancias de titanic_2 (podrían ser otro conjunto de datos)\n",
    "clu.transform(titanic_2)"
   ]
  },
  {
   "cell_type": "markdown",
   "metadata": {
    "collapsed": true
   },
   "source": [
    "## Pipelines"
   ]
  },
  {
   "cell_type": "markdown",
   "metadata": {},
   "source": [
    "### Clasificación"
   ]
  },
  {
   "cell_type": "code",
   "execution_count": null,
   "metadata": {},
   "outputs": [],
   "source": [
    "from sklearn.pipeline import Pipeline\n",
    "from sklearn.svm import SVC\n",
    "\n",
    "## Preprocesado\n",
    "\n",
    "# División en train (80%) y test (20%) para clasificación, con clase 'Survived'\n",
    "titanic = pd.read_csv('../../data/Cap 5/titanic_ml.csv')\n",
    "train_X, train_y, test_X, test_y = split_label(titanic, 0.2, 'Survived')\n",
    "\n",
    "# Etapa one hot encoding\n",
    "index_Embarked = train_X.columns.get_loc('Embarked')\n",
    "ohe = OneHotEncoder(categorical_features=[index_Embarked], sparse=False)\n",
    "\n",
    "# Etapa de escalado de atributos al rango [0,1]\n",
    "min_max_scaler = MinMaxScaler()\n",
    "\n",
    "# Etapa de clasificación\n",
    "svm = SVC()\n",
    "\n",
    "# Creación del pipeline\n",
    "pipe = Pipeline([('ohe', ohe), ('sca', min_max_scaler), ('clf', svm)])\n",
    "\n",
    "# Entranamiento del pipeline\n",
    "pipe.fit(train_X, train_y)\n",
    "\n",
    "# Evaluación del pipeline\n",
    "print('precisión:', pipe.score(test_X, test_y))\n",
    "\n",
    "# Uso del modelo\n",
    "pipe.predict(test_X)"
   ]
  },
  {
   "cell_type": "markdown",
   "metadata": {},
   "source": [
    "### Regresión"
   ]
  },
  {
   "cell_type": "code",
   "execution_count": null,
   "metadata": {},
   "outputs": [],
   "source": [
    "# Pipeline para regresión\n",
    "\n",
    "from sklearn.pipeline import Pipeline\n",
    "from sklearn.preprocessing import OneHotEncoder\n",
    "from sklearn.preprocessing import MinMaxScaler\n",
    "from sklearn.linear_model import LinearRegression\n",
    "from sklearn.metrics import mean_squared_error\n",
    "\n",
    "## Preprocesado\n",
    "\n",
    "# División en train (80%) y test (20%) para clasificación, con clase 'Fare'\n",
    "titanic = pd.read_csv('../../data/Cap 5/titanic_ml.csv')\n",
    "train_X, train_y, test_X, test_y = split_label(titanic, 0.2, 'Fare')\n",
    "\n",
    "# Etapa de one hot encoding\n",
    "index_Embarked = train_X.columns.get_loc('Embarked')\n",
    "ohe = OneHotEncoder(categorical_features=[index_Embarked], sparse=False)\n",
    "\n",
    "# Etapa de escalado de atributos al rango [0,1]\n",
    "min_max_scaler = MinMaxScaler()\n",
    "\n",
    "# Etapa de regresión\n",
    "lin = LinearRegression()\n",
    "\n",
    "# Creación del pipeline\n",
    "pipe = Pipeline([('ohe', ohe), ('sca', min_max_scaler), ('reg', lin)])\n",
    "\n",
    "# Entranamiento del pipeline\n",
    "pipe.fit(train_X, train_y)\n",
    "\n",
    "# Evaluación R^2 del pipeline\n",
    "print('R^2:', pipe.score(test_X, test_y))\n",
    "\n",
    "# Uso del modelo y evaluación MSE\n",
    "pred = pipe.predict(test_X)\n",
    "print(pred)\n",
    "print('MSE:', mean_squared_error(test_y, pred))\n",
    "print(\"MAE:\", mean_absolute_error(test_y, pred))"
   ]
  },
  {
   "cell_type": "code",
   "execution_count": null,
   "metadata": {},
   "outputs": [],
   "source": []
  }
 ],
 "metadata": {
  "kernelspec": {
   "display_name": "Python 3",
   "language": "python",
   "name": "python3"
  },
  "language_info": {
   "codemirror_mode": {
    "name": "ipython",
    "version": 3
   },
   "file_extension": ".py",
   "mimetype": "text/x-python",
   "name": "python",
   "nbconvert_exporter": "python",
   "pygments_lexer": "ipython3",
   "version": "3.8.3"
  }
 },
 "nbformat": 4,
 "nbformat_minor": 2
}
