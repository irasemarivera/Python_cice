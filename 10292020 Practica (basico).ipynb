{
 "cells": [
  {
   "cell_type": "code",
   "execution_count": 3,
   "metadata": {},
   "outputs": [
    {
     "name": "stdout",
     "output_type": "stream",
     "text": [
      "15\n",
      "5\n",
      "50\n",
      "2.0\n",
      "100000\n",
      "0\n",
      "2\n"
     ]
    }
   ],
   "source": [
    "primer_numero = 10\n",
    "segundo_numero = 5\n",
    "suma = primer_numero + segundo_numero\n",
    "resta = primer_numero - segundo_numero\n",
    "multiplicacion = primer_numero * segundo_numero\n",
    "division = primer_numero / segundo_numero\n",
    "potencia = primer_numero ** segundo_numero\n",
    "modulo = primer_numero % segundo_numero\n",
    "div_entera = primer_numero // segundo_numero\n",
    "print(suma)\n",
    "print(resta)\n",
    "print(multiplicacion)\n",
    "print(division)\n",
    "print(potencia)\n",
    "print(modulo)\n",
    "print(div_entera)"
   ]
  },
  {
   "cell_type": "code",
   "execution_count": 4,
   "metadata": {},
   "outputs": [
    {
     "name": "stdout",
     "output_type": "stream",
     "text": [
      "False\n",
      "True\n",
      "True\n",
      "False\n",
      "True\n"
     ]
    }
   ],
   "source": [
    "numero = 7\n",
    "texto = \"Hola Mundo\"\n",
    "print(3 == 2)\n",
    "print (3 > 2)\n",
    "print (texto == \"Hola Mundo\")\n",
    "print (texto == \"Hola mundo\")\n",
    "print (7 > 6)"
   ]
  },
  {
   "cell_type": "code",
   "execution_count": 5,
   "metadata": {},
   "outputs": [
    {
     "name": "stdout",
     "output_type": "stream",
     "text": [
      "Hola Mundo\n",
      "CoCoCoCo\n"
     ]
    }
   ],
   "source": [
    "saludo = \"Hola\"\n",
    "saludo += \" Mundo\"\n",
    "print(saludo)\n",
    "\n",
    "gallina = \"Co\"\n",
    "gallina = 4 * gallina\n",
    "print(gallina)"
   ]
  },
  {
   "cell_type": "code",
   "execution_count": 6,
   "metadata": {},
   "outputs": [
    {
     "name": "stdout",
     "output_type": "stream",
     "text": [
      "False\n"
     ]
    }
   ],
   "source": [
    "variable1 = 6\n",
    "variable2 = 6.0\n",
    "print (variable1 is variable2)"
   ]
  },
  {
   "cell_type": "code",
   "execution_count": 7,
   "metadata": {},
   "outputs": [
    {
     "name": "stdout",
     "output_type": "stream",
     "text": [
      "True\n"
     ]
    }
   ],
   "source": [
    "Lista = [\"silla\", \"mesa\", \"armario\", \"reloj\"]\n",
    "print(\"silla\" in Lista)"
   ]
  },
  {
   "cell_type": "code",
   "execution_count": 8,
   "metadata": {},
   "outputs": [
    {
     "name": "stdout",
     "output_type": "stream",
     "text": [
      "False\n"
     ]
    }
   ],
   "source": [
    "print(\"ropero\" in Lista)"
   ]
  },
  {
   "cell_type": "code",
   "execution_count": 10,
   "metadata": {},
   "outputs": [
    {
     "name": "stdout",
     "output_type": "stream",
     "text": [
      "['uno', 'dos', 'tres', 'cuatro']\n"
     ]
    }
   ],
   "source": [
    "lista = list((\"uno\", \"dos\", \"tres\", \"cuatro\"))\n",
    "print(lista)"
   ]
  },
  {
   "cell_type": "code",
   "execution_count": 11,
   "metadata": {},
   "outputs": [
    {
     "name": "stdout",
     "output_type": "stream",
     "text": [
      "tres\n"
     ]
    }
   ],
   "source": [
    "print(lista[2])"
   ]
  },
  {
   "cell_type": "code",
   "execution_count": 12,
   "metadata": {},
   "outputs": [
    {
     "name": "stdout",
     "output_type": "stream",
     "text": [
      "cuatro\n"
     ]
    }
   ],
   "source": [
    "print(lista[-1])"
   ]
  },
  {
   "cell_type": "code",
   "execution_count": 13,
   "metadata": {},
   "outputs": [
    {
     "name": "stdout",
     "output_type": "stream",
     "text": [
      "['uno', 'dos', 'Nuevo numero', 'cuatro']\n"
     ]
    }
   ],
   "source": [
    "lista[2] = \"Nuevo numero\"\n",
    "print(lista)"
   ]
  },
  {
   "cell_type": "code",
   "execution_count": 15,
   "metadata": {},
   "outputs": [
    {
     "name": "stdout",
     "output_type": "stream",
     "text": [
      "[[1, 2, 3], ['a', 'b', 'c']]\n",
      "3\n",
      "c\n"
     ]
    }
   ],
   "source": [
    "lista = [[1, 2, 3], [\"a\", \"b\", \"c\"]]\n",
    "print(lista)\n",
    "print(lista[0][2])\n",
    "print(lista[1][2])"
   ]
  },
  {
   "cell_type": "code",
   "execution_count": 16,
   "metadata": {},
   "outputs": [
    {
     "name": "stdout",
     "output_type": "stream",
     "text": [
      "[2, 3, 4]\n"
     ]
    }
   ],
   "source": [
    "lista = [1,2,3,4,5,6,7,8,9,0]\n",
    "print(lista[1:4])"
   ]
  },
  {
   "cell_type": "code",
   "execution_count": 17,
   "metadata": {},
   "outputs": [
    {
     "name": "stdout",
     "output_type": "stream",
     "text": [
      "[2, 4, 6, 8]\n"
     ]
    }
   ],
   "source": [
    "print(lista[1:8:2])"
   ]
  },
  {
   "cell_type": "code",
   "execution_count": 18,
   "metadata": {},
   "outputs": [
    {
     "name": "stdout",
     "output_type": "stream",
     "text": [
      "('primero', 'segundo', 'tercero', 'cuarto', 'quinto')\n",
      "tercero\n"
     ]
    }
   ],
   "source": [
    "tupla = \"primero\", \"segundo\", \"tercero\", \"cuarto\", \"quinto\"\n",
    "print(tupla)\n",
    "print(tupla[2])"
   ]
  },
  {
   "cell_type": "code",
   "execution_count": 19,
   "metadata": {},
   "outputs": [
    {
     "name": "stdout",
     "output_type": "stream",
     "text": [
      "('segundo', 'tercero')\n"
     ]
    }
   ],
   "source": [
    "print(tupla[1:3])"
   ]
  },
  {
   "cell_type": "code",
   "execution_count": 20,
   "metadata": {},
   "outputs": [
    {
     "name": "stdout",
     "output_type": "stream",
     "text": [
      "o\n"
     ]
    }
   ],
   "source": [
    "cadena = \"Hola Mundo\"\n",
    "print (cadena[1])"
   ]
  },
  {
   "cell_type": "code",
   "execution_count": 21,
   "metadata": {},
   "outputs": [
    {
     "name": "stdout",
     "output_type": "stream",
     "text": [
      "ola \n"
     ]
    }
   ],
   "source": [
    "print(cadena[1:5])"
   ]
  },
  {
   "cell_type": "code",
   "execution_count": 22,
   "metadata": {},
   "outputs": [
    {
     "name": "stdout",
     "output_type": "stream",
     "text": [
      "Hl ud\n"
     ]
    }
   ],
   "source": [
    "print(cadena[0:10:2])"
   ]
  },
  {
   "cell_type": "code",
   "execution_count": 23,
   "metadata": {},
   "outputs": [
    {
     "name": "stdout",
     "output_type": "stream",
     "text": [
      "{'animal': 'gato', 'cosa': 'piedra', 'planta': 'lechuga'}\n",
      "gato\n"
     ]
    },
    {
     "data": {
      "text/plain": [
       "'lechuga'"
      ]
     },
     "execution_count": 23,
     "metadata": {},
     "output_type": "execute_result"
    }
   ],
   "source": [
    "diccionario = {\"animal\":\"gato\", \"cosa\": \"piedra\", \"planta\": \"lechuga\"}\n",
    "print(diccionario)\n",
    "print(diccionario[\"animal\"])\n",
    "diccionario[\"planta\"]"
   ]
  },
  {
   "cell_type": "code",
   "execution_count": 24,
   "metadata": {},
   "outputs": [
    {
     "name": "stdout",
     "output_type": "stream",
     "text": [
      "coliflor\n"
     ]
    }
   ],
   "source": [
    "diccionario[\"planta\"] = \"coliflor\"\n",
    "print(diccionario[\"planta\"])"
   ]
  },
  {
   "cell_type": "code",
   "execution_count": 25,
   "metadata": {},
   "outputs": [
    {
     "name": "stdout",
     "output_type": "stream",
     "text": [
      "{'tenedor', 'cuchara', 'cucharilla', 'cuchillo'}\n",
      "{'plato', 'copa', 'taza'}\n"
     ]
    }
   ],
   "source": [
    "cubiertos = {\"tenedor\", \"cuchara\", \"cuchillo\", \"cucharilla\"}\n",
    "vajilla = set([\"plato\", \"taza\", \"copa\"])\n",
    "print(cubiertos)\n",
    "print(vajilla)"
   ]
  },
  {
   "cell_type": "code",
   "execution_count": 26,
   "metadata": {},
   "outputs": [
    {
     "name": "stdout",
     "output_type": "stream",
     "text": [
      "1355090558704\n",
      "1355090558704\n",
      "1355090537840\n"
     ]
    }
   ],
   "source": [
    "variable1 = \"Hola\"\n",
    "variable2 = variable1\n",
    "variable3 = \"adios\"\n",
    "print(id(variable1))\n",
    "print(id(variable2))\n",
    "print(id(variable3))"
   ]
  },
  {
   "cell_type": "code",
   "execution_count": 29,
   "metadata": {},
   "outputs": [
    {
     "name": "stdout",
     "output_type": "stream",
     "text": [
      "La variable es mayor que 5\n",
      "Esto se muestra siempre\n"
     ]
    }
   ],
   "source": [
    "variable = 7\n",
    "if variable > 5:\n",
    "    print(\"La variable es mayor que 5\")\n",
    "print(\"Esto se muestra siempre\")"
   ]
  },
  {
   "cell_type": "code",
   "execution_count": 31,
   "metadata": {},
   "outputs": [
    {
     "name": "stdout",
     "output_type": "stream",
     "text": [
      "La variable es menor o igual que 3\n"
     ]
    }
   ],
   "source": [
    "variable = 2\n",
    "if variable > 5:\n",
    "    print(\"La variable es mayor que 5\")\n",
    "else:\n",
    "    print(\"La variable es menor o igual a 5\")"
   ]
  },
  {
   "cell_type": "code",
   "execution_count": 36,
   "metadata": {},
   "outputs": [
    {
     "name": "stdout",
     "output_type": "stream",
     "text": [
      "La variable es mayor que 3\n"
     ]
    }
   ],
   "source": [
    "variable = 5\n",
    "if variable > 3:\n",
    "    print(\"La variable es mayor que 3\")\n",
    "elif variable < 3:\n",
    "    print(\"La variable es menor que 3\")\n",
    "else:\n",
    "    print(\"La variable es igual a 3\")"
   ]
  },
  {
   "cell_type": "code",
   "execution_count": 37,
   "metadata": {},
   "outputs": [
    {
     "name": "stdout",
     "output_type": "stream",
     "text": [
      "1\n",
      "2\n",
      "3\n",
      "4\n",
      "5\n",
      "6\n",
      "7\n",
      "8\n",
      "9\n",
      "10\n"
     ]
    }
   ],
   "source": [
    "a = 0\n",
    "while(a<10):\n",
    "    a = a + 1\n",
    "    print(a)"
   ]
  },
  {
   "cell_type": "code",
   "execution_count": 38,
   "metadata": {},
   "outputs": [
    {
     "name": "stdout",
     "output_type": "stream",
     "text": [
      "1\n",
      "2\n"
     ]
    }
   ],
   "source": [
    "a = 0\n",
    "while(a<10):\n",
    "    a = a + 1\n",
    "    if a == 3:\n",
    "        break\n",
    "    print(a)"
   ]
  },
  {
   "cell_type": "code",
   "execution_count": 39,
   "metadata": {},
   "outputs": [
    {
     "name": "stdout",
     "output_type": "stream",
     "text": [
      "1\n",
      "2\n",
      "4\n",
      "5\n",
      "6\n",
      "7\n",
      "8\n",
      "9\n",
      "10\n"
     ]
    }
   ],
   "source": [
    "a = 0\n",
    "while(a<10):\n",
    "    a = a + 1\n",
    "    if a == 3:\n",
    "        continue\n",
    "    print(a)\n",
    "#comentario"
   ]
  },
  {
   "cell_type": "code",
   "execution_count": 42,
   "metadata": {},
   "outputs": [
    {
     "name": "stdout",
     "output_type": "stream",
     "text": [
      "Tabla del  3\n",
      "3  x  1  =  3\n",
      "3  x  2  =  6\n",
      "3  x  3  =  9\n",
      "3  x  4  =  12\n",
      "3  x  5  =  15\n",
      "3  x  6  =  18\n",
      "3  x  7  =  21\n",
      "3  x  8  =  24\n",
      "3  x  9  =  27\n",
      "3  x  10  =  30\n",
      "Tabla del  4\n",
      "4  x  1  =  4\n",
      "4  x  2  =  8\n",
      "4  x  3  =  12\n",
      "4  x  4  =  16\n",
      "4  x  5  =  20\n",
      "4  x  6  =  24\n",
      "4  x  7  =  28\n",
      "4  x  8  =  32\n",
      "4  x  9  =  36\n",
      "4  x  10  =  40\n",
      "Tabla del  5\n",
      "5  x  1  =  5\n",
      "5  x  2  =  10\n",
      "5  x  3  =  15\n",
      "5  x  4  =  20\n",
      "5  x  5  =  25\n",
      "5  x  6  =  30\n",
      "5  x  7  =  35\n",
      "5  x  8  =  40\n",
      "5  x  9  =  45\n",
      "5  x  10  =  50\n",
      "Tabla del  6\n",
      "6  x  1  =  6\n",
      "6  x  2  =  12\n",
      "6  x  3  =  18\n",
      "6  x  4  =  24\n",
      "6  x  5  =  30\n",
      "6  x  6  =  36\n",
      "6  x  7  =  42\n",
      "6  x  8  =  48\n",
      "6  x  9  =  54\n",
      "6  x  10  =  60\n",
      "Tabla del  7\n",
      "7  x  1  =  7\n",
      "7  x  2  =  14\n",
      "7  x  3  =  21\n",
      "7  x  4  =  28\n",
      "7  x  5  =  35\n",
      "7  x  6  =  42\n",
      "7  x  7  =  49\n",
      "7  x  8  =  56\n",
      "7  x  9  =  63\n",
      "7  x  10  =  70\n"
     ]
    }
   ],
   "source": [
    "tabla = 3\n",
    "while tabla <= 7:\n",
    "    print(\"Tabla del \", tabla)\n",
    "    multiplo = 1\n",
    "    while multiplo <= 10:\n",
    "        print(tabla, \" x \", multiplo, \" = \", tabla * multiplo)\n",
    "        multiplo += 1\n",
    "    tabla += 1\n"
   ]
  },
  {
   "cell_type": "code",
   "execution_count": 44,
   "metadata": {},
   "outputs": [
    {
     "name": "stdout",
     "output_type": "stream",
     "text": [
      "La lavadora se ha comida mi calcetin\n",
      "La lavadora se ha comida mi pantalón\n",
      "La lavadora se ha comida mi camisa\n",
      "La lavadora se ha comida mi camiseta\n",
      "La lavadora se ha comida mi otro calcetin\n",
      "La lavadora se ha comida mi gorra\n"
     ]
    }
   ],
   "source": [
    "lista = [\"calcetin\", \"pantalón\", \"camisa\", \"camiseta\", \"otro calcetin\", \"gorra\"]\n",
    "for prenda in lista:\n",
    "    print(\"La lavadora se ha comido mi\", prenda)"
   ]
  },
  {
   "cell_type": "code",
   "execution_count": 45,
   "metadata": {},
   "outputs": [
    {
     "name": "stdout",
     "output_type": "stream",
     "text": [
      "o\n"
     ]
    }
   ],
   "source": [
    "saludo = \"Hola Mundo\"\n",
    "print(saludo[1])"
   ]
  },
  {
   "cell_type": "code",
   "execution_count": 47,
   "metadata": {},
   "outputs": [
    {
     "name": "stdout",
     "output_type": "stream",
     "text": [
      "H\n",
      "o\n",
      "l\n",
      "a\n",
      " \n",
      "M\n",
      "u\n",
      "n\n",
      "d\n",
      "o\n"
     ]
    }
   ],
   "source": [
    "for letra in saludo:\n",
    "    print(letra)"
   ]
  },
  {
   "cell_type": "code",
   "execution_count": 63,
   "metadata": {},
   "outputs": [
    {
     "name": "stdout",
     "output_type": "stream",
     "text": [
      "nombre : Jose\n",
      "apellido : González\n",
      "altura : 1.70\n",
      "nombre : Jose\n",
      "apellido : González\n",
      "altura : 1.70\n"
     ]
    }
   ],
   "source": [
    "datos = {\"nombre\":\"Jose\", \"apellido\":\"González\", \"altura\": \"1.70\"}\n",
    "for i in datos:\n",
    "    print(i, \":\", datos[i])\n",
    "    \n",
    "for i, valor in datos.items():\n",
    "    print(i, \":\", valor)"
   ]
  },
  {
   "cell_type": "code",
   "execution_count": 64,
   "metadata": {},
   "outputs": [
    {
     "ename": "ZeroDivisionError",
     "evalue": "division by zero",
     "output_type": "error",
     "traceback": [
      "\u001b[1;31m---------------------------------------------------------------------------\u001b[0m",
      "\u001b[1;31mZeroDivisionError\u001b[0m                         Traceback (most recent call last)",
      "\u001b[1;32m<ipython-input-64-fe01563e1bc6>\u001b[0m in \u001b[0;36m<module>\u001b[1;34m\u001b[0m\n\u001b[1;32m----> 1\u001b[1;33m \u001b[0mprint\u001b[0m\u001b[1;33m(\u001b[0m\u001b[1;36m10\u001b[0m\u001b[1;33m/\u001b[0m\u001b[1;36m0\u001b[0m\u001b[1;33m)\u001b[0m\u001b[1;33m\u001b[0m\u001b[1;33m\u001b[0m\u001b[0m\n\u001b[0m",
      "\u001b[1;31mZeroDivisionError\u001b[0m: division by zero"
     ]
    }
   ],
   "source": [
    "print(10/0)"
   ]
  },
  {
   "cell_type": "code",
   "execution_count": 69,
   "metadata": {},
   "outputs": [
    {
     "name": "stdout",
     "output_type": "stream",
     "text": [
      "No se puede dividir por 0\n",
      "The end\n"
     ]
    }
   ],
   "source": [
    "dividendo = 1\n",
    "divisor = 0\n",
    "try:\n",
    "    resultado = dividendo/divisor\n",
    "    print(\"La división resulta: \", resultado)\n",
    "except ZeroDivisionError:\n",
    "    if divisor == 0:\n",
    "        print(\"No se puede dividir por 0\")\n",
    "except TypeError:\n",
    "    print(\"Eso no es un número\")\n",
    "print(\"The end\")"
   ]
  },
  {
   "cell_type": "code",
   "execution_count": 72,
   "metadata": {},
   "outputs": [
    {
     "name": "stdout",
     "output_type": "stream",
     "text": [
      "Hola Mundo\n",
      "Aqui estamos\n",
      "Perfecto\n",
      "3.141592\n"
     ]
    }
   ],
   "source": [
    "def saluda():\n",
    "    print(\"Hola Mundo\")\n",
    "    print(\"Aqui estamos\")\n",
    "    print(\"Perfecto\")\n",
    "\n",
    "saluda()\n",
    "\n",
    "def dame_pi():\n",
    "    numero_pi = 3.141592\n",
    "    return numero_pi\n",
    "\n",
    "pi = dame_pi()\n",
    "print(pi)"
   ]
  },
  {
   "cell_type": "code",
   "execution_count": 78,
   "metadata": {},
   "outputs": [
    {
     "name": "stdout",
     "output_type": "stream",
     "text": [
      "El cuadrado de 8 es 64\n"
     ]
    }
   ],
   "source": [
    "def calcular_cuadrado(numero):\n",
    "    return numero ** 2\n",
    "\n",
    "variable = 8\n",
    "print(\"El cuadrado de\", variable, \"es\", calcular_cuadrado(variable))"
   ]
  },
  {
   "cell_type": "code",
   "execution_count": 87,
   "metadata": {},
   "outputs": [
    {
     "name": "stdout",
     "output_type": "stream",
     "text": [
      "Tabla del  9\n",
      "9 x 1 = 9\n",
      "9 x 2 = 18\n",
      "9 x 3 = 27\n",
      "9 x 4 = 36\n",
      "9 x 5 = 45\n",
      "9 x 6 = 54\n",
      "9 x 7 = 63\n",
      "9 x 8 = 72\n",
      "9 x 9 = 81\n",
      "9 x 10 = 90\n"
     ]
    }
   ],
   "source": [
    "def imprime_tabla(tabla):\n",
    "    print(\"Tabla del \", tabla)\n",
    "    multiplo = 1\n",
    "    while multiplo <= 10:\n",
    "        print(tabla, \"x\", multiplo, \"=\", tabla * multiplo)\n",
    "        multiplo += 1\n",
    "\n",
    "variable = 9\n",
    "imprime_tabla(variable)\n",
    "    "
   ]
  },
  {
   "cell_type": "code",
   "execution_count": 88,
   "metadata": {},
   "outputs": [
    {
     "name": "stdout",
     "output_type": "stream",
     "text": [
      "Lista de Mi lista\n",
      "tornillo\n",
      "tuerca\n",
      "otro tornillo\n",
      "martillo\n",
      "cable\n"
     ]
    }
   ],
   "source": [
    "def imprime_lista(nombre_lista, *cosas):\n",
    "    print(\"Lista de\", nombre_lista)\n",
    "    \n",
    "    for cosa in cosas:\n",
    "        print(cosa)\n",
    "imprime_lista(\"Mi lista\", \"tornillo\", \"tuerca\", \"otro tornillo\", \"martillo\", \"cable\")"
   ]
  },
  {
   "cell_type": "code",
   "execution_count": 89,
   "metadata": {},
   "outputs": [
    {
     "name": "stdout",
     "output_type": "stream",
     "text": [
      "Datos de Irasema\n",
      "edad muchas\n",
      "estado uyy\n",
      "agradable a veces\n"
     ]
    }
   ],
   "source": [
    "def imprime_datos(nombre, **datos):\n",
    "    print(\"Datos de\", nombre)\n",
    "    for clave in datos:\n",
    "        print(clave, datos[clave])\n",
    "\n",
    "imprime_datos(\"Irasema\", edad = \"muchas\", estado = \"uyy\", agradable = \"a veces\")"
   ]
  },
  {
   "cell_type": "code",
   "execution_count": 90,
   "metadata": {},
   "outputs": [
    {
     "name": "stdout",
     "output_type": "stream",
     "text": [
      "dentro de la funcion\n",
      "fuera de la funcion\n"
     ]
    }
   ],
   "source": [
    "variable = \"fuera de la funcion\"\n",
    "\n",
    "def una_funcion():\n",
    "    variable = \"dentro de la funcion\"\n",
    "    print(variable)\n",
    "\n",
    "una_funcion()\n",
    "print(variable)"
   ]
  },
  {
   "cell_type": "code",
   "execution_count": 91,
   "metadata": {},
   "outputs": [
    {
     "name": "stdout",
     "output_type": "stream",
     "text": [
      "fuera de la funcion\n",
      "fuera de la funcion\n"
     ]
    }
   ],
   "source": [
    "variable = \"fuera de la funcion\"\n",
    "\n",
    "def una_funcion():\n",
    "    print(variable)\n",
    "\n",
    "una_funcion()\n",
    "print(variable)"
   ]
  },
  {
   "cell_type": "code",
   "execution_count": 93,
   "metadata": {},
   "outputs": [
    {
     "name": "stdout",
     "output_type": "stream",
     "text": [
      "dentro de la funcion\n",
      "dentro de la funcion\n"
     ]
    }
   ],
   "source": [
    "variable = \"fuera de la funcion\"\n",
    "\n",
    "def una_funcion():\n",
    "    global variable\n",
    "    variable = \"dentro de la funcion\"\n",
    "    print(variable)\n",
    "\n",
    "una_funcion()\n",
    "print(variable)"
   ]
  },
  {
   "cell_type": "code",
   "execution_count": 99,
   "metadata": {},
   "outputs": [
    {
     "name": "stdout",
     "output_type": "stream",
     "text": [
      "38\n"
     ]
    }
   ],
   "source": [
    "def el_mayor(numero1, numero2):\n",
    "    if numero1 > numero2:\n",
    "        return numero1\n",
    "    else:\n",
    "        return numero2\n",
    "\n",
    "print(el_mayor(38, 28))"
   ]
  },
  {
   "cell_type": "code",
   "execution_count": 3,
   "metadata": {},
   "outputs": [
    {
     "name": "stdout",
     "output_type": "stream",
     "text": [
      "1\n",
      "2\n",
      "3\n",
      "4\n",
      "5\n",
      "6\n",
      "7\n",
      "8\n"
     ]
    }
   ],
   "source": [
    "def genera_lista(num):\n",
    "    lista = []\n",
    "    i = 1\n",
    "    while (i <= num):\n",
    "        lista.append(i)\n",
    "        i+=1\n",
    "    return lista\n",
    "\n",
    "for i in genera_lista(8):\n",
    "    print(i)"
   ]
  },
  {
   "cell_type": "code",
   "execution_count": 9,
   "metadata": {},
   "outputs": [
    {
     "name": "stdout",
     "output_type": "stream",
     "text": [
      "Hola Irasema\n",
      "Que tengas un buen día\n"
     ]
    }
   ],
   "source": [
    "def decorador(funcion_entrada):\n",
    "    def funcion_salida(param):\n",
    "        if param == \"Lidia\":\n",
    "            print(\"Buenos días, guapa\")\n",
    "        elif param == \"Pablo\":\n",
    "            print(\"Buenos días, guapo\")\n",
    "        else:\n",
    "            funcion_entrada(param)\n",
    "        print(\"Que tengas un buen día\")\n",
    "    return funcion_salida\n",
    "    \n",
    "@decorador\n",
    "def saludo(nombre):\n",
    "    print(\"Hola\", nombre)\n",
    "\n",
    "saludo(\"Irasema\")"
   ]
  },
  {
   "cell_type": "code",
   "execution_count": null,
   "metadata": {},
   "outputs": [],
   "source": []
  }
 ],
 "metadata": {
  "kernelspec": {
   "display_name": "Python 3",
   "language": "python",
   "name": "python3"
  },
  "language_info": {
   "codemirror_mode": {
    "name": "ipython",
    "version": 3
   },
   "file_extension": ".py",
   "mimetype": "text/x-python",
   "name": "python",
   "nbconvert_exporter": "python",
   "pygments_lexer": "ipython3",
   "version": "3.8.3"
  }
 },
 "nbformat": 4,
 "nbformat_minor": 4
}
